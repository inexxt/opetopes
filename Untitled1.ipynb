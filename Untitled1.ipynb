{
 "cells": [
  {
   "cell_type": "code",
   "execution_count": null,
   "metadata": {},
   "outputs": [
    {
     "name": "stdout",
     "output_type": "stream",
     "text": [
      "NegCounter({2: 13, 1: 12, 0: 6, 3: 6})\n",
      "Len:  37\n",
      "NegCounter({1: 12, 2: 9, 0: 6, 3: 2})\n",
      "Len:  29\n",
      "^C\n",
      "Traceback (most recent call last):\n",
      "  File \"testArrow_with_3ope.py\", line 17, in <module>\n",
      "    b, s = product(ab, alpha)\n",
      "  File \"/home/jack/licencjat/Products.py\", line 128, in product\n",
      "    new_opetopes |= build_possible_opetopes(op=f, building_blocks=building_blocks, P=P, Q=Q)\n",
      "  File \"/home/jack/licencjat/Products.py\", line 19, in build_possible_opetopes\n",
      "    DFS({op.out}, set(), building_blocks, results, op, P, Q)\n",
      "  File \"/home/jack/licencjat/Products.py\", line 47, in DFS\n",
      "    new_ins = {*current_ins, *b.ins} - {i}\n",
      "  File \"/home/jack/licencjat/Opetope.py\", line 263, in __hash__\n",
      "    \"\".join(str(hash(i)) for i in self.ins),\n",
      "  File \"/home/jack/licencjat/Opetope.py\", line 263, in <genexpr>\n",
      "    \"\".join(str(hash(i)) for i in self.ins),\n",
      "  File \"/home/jack/licencjat/Opetope.py\", line 265, in __hash__\n",
      "    self.name))\n",
      "KeyboardInterrupt\n",
      "NegCounter({1: 12, 2: 6, 0: 6})\n",
      "Len:  24\n",
      "NegCounter({2: 12, 1: 12, 0: 6, 3: 4})\n",
      "Len:  34\n",
      "NegCounter({1: 12, 2: 10, 0: 6, 3: 2})\n",
      "Len:  30\n",
      "NegCounter({1: 12, 2: 7, 0: 6})\n",
      "Len:  25\n",
      "NegCounter({1: 12, 2: 12, 0: 6, 3: 4})\n",
      "Len:  34\n",
      "NegCounter({2: 13, 1: 12, 0: 6, 3: 6})\n",
      "Len:  37\n",
      "^C\n",
      "NegCounter({1: 12, 0: 6, 2: 6})\n",
      "Len:  24\n",
      "^C\n",
      "^C\n",
      "Traceback (most recent call last):\n",
      "  File \"testArrow_with_3ope.py\", line 1, in <module>\n",
      "    from Opetope import Opetope, NegCounter\n",
      "  File \"/home/jack/licencjat/Opetope.py\", line 6, in <module>\n",
      "    from typing import List, Iterable\n",
      "  File \"/home/jack/anaconda3/lib/python3.6/typing.py\", line 1892, in <module>\n",
      "    class FrozenSet(frozenset, AbstractSet[T_co], extra=frozenset):\n",
      "  File \"/home/jack/anaconda3/lib/python3.6/typing.py\", line 649, in inner\n",
      "    return cached(*args, **kwds)\n",
      "  File \"/home/jack/anaconda3/lib/python3.6/typing.py\", line 1134, in __getitem__\n",
      "    orig_bases=self.__orig_bases__)\n",
      "  File \"/home/jack/anaconda3/lib/python3.6/typing.py\", line 970, in __new__\n",
      "    self = super().__new__(cls, name, bases, namespace, _root=True)\n",
      "  File \"/home/jack/anaconda3/lib/python3.6/typing.py\", line 132, in __new__\n",
      "    return super().__new__(cls, name, bases, namespace)\n",
      "  File \"/home/jack/anaconda3/lib/python3.6/abc.py\", line 146, in __new__\n",
      "    cls._abc_cache = WeakSet()\n",
      "  File \"/home/jack/anaconda3/lib/python3.6/typing.py\", line 1164, in __setattr__\n",
      "    attr.startswith('__') and attr.endswith('__') or\n",
      "KeyboardInterrupt\n",
      "^C\n",
      "NegCounter({1: 12, 2: 7, 0: 6})\n",
      "Len:  25\n",
      "NegCounter({1: 12, 2: 12, 0: 6, 3: 4})\n",
      "Len:  34\n",
      "NegCounter({2: 12, 1: 12, 0: 6, 3: 4})\n",
      "Len:  34\n",
      "NegCounter({2: 12, 1: 12, 0: 6, 3: 4})\n",
      "Len:  34\n",
      "NegCounter({1: 12, 2: 9, 0: 6, 3: 1})\n",
      "Len:  28\n",
      "NegCounter({1: 12, 2: 11, 0: 6, 3: 2})\n",
      "Len:  31\n",
      "NegCounter({1: 12, 2: 10, 0: 6, 3: 3})\n",
      "Len:  31\n",
      "NegCounter({1: 12, 0: 6, 2: 6})\n",
      "Len:  24\n",
      "NegCounter({1: 12, 2: 9, 0: 6, 3: 2})\n",
      "Len:  29\n"
     ]
    }
   ],
   "source": [
    "for t in range(100):\n",
    "    ! python testArrow_with_3ope.py"
   ]
  }
 ],
 "metadata": {
  "kernelspec": {
   "display_name": "Python 3",
   "language": "python",
   "name": "python3"
  },
  "language_info": {
   "codemirror_mode": {
    "name": "ipython",
    "version": 3
   },
   "file_extension": ".py",
   "mimetype": "text/x-python",
   "name": "python",
   "nbconvert_exporter": "python",
   "pygments_lexer": "ipython3",
   "version": "3.6.1"
  }
 },
 "nbformat": 4,
 "nbformat_minor": 2
}
