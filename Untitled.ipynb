{
 "cells": [
  {
   "cell_type": "code",
   "execution_count": 17,
   "metadata": {
    "collapsed": true
   },
   "outputs": [],
   "source": [
    "from collections import Counter\n",
    "\n",
    "class NegCounter(Counter):\n",
    "    def __add__(self, other):\n",
    "        return {x: self.get(x, 0) + other.get(x, 0) for x in set(self.keys()) | set(other.keys())\n",
    "    def __sub__(self, other):\n",
    "        result = self.copy()\n",
    "        for elem, cnt in other.items():\n",
    "            result[elem] -= cnt\n",
    "        return result\n",
    "    def __or__(self, other):\n",
    "        return {x: self.get(x, 0) + other.get(x, 0) for x in set(self.keys()) | set(other.keys())}\n",
    "    def __and__(self, other):\n",
    "        return {x: self.get(x, 0) + other.get(x, 0) for x in set(self.keys()) & set(other.keys())}\n",
    "    "
   ]
  },
  {
   "cell_type": "code",
   "execution_count": 18,
   "metadata": {
    "collapsed": true
   },
   "outputs": [],
   "source": [
    "a = {\"a\", \"b\", \"c\"}\n",
    "b = {\"b\", \"c\"}"
   ]
  },
  {
   "cell_type": "code",
   "execution_count": 19,
   "metadata": {
    "collapsed": true
   },
   "outputs": [],
   "source": [
    "aa = NegCounter(a)\n",
    "bb = NegCounter(b)"
   ]
  },
  {
   "cell_type": "code",
   "execution_count": 20,
   "metadata": {},
   "outputs": [
    {
     "data": {
      "text/plain": [
       "{'a': -1, 'b': 0, 'c': 0}"
      ]
     },
     "execution_count": 20,
     "metadata": {},
     "output_type": "execute_result"
    }
   ],
   "source": [
    "(bb - aa) | Counter()"
   ]
  },
  {
   "cell_type": "code",
   "execution_count": null,
   "metadata": {
    "collapsed": true
   },
   "outputs": [],
   "source": []
  }
 ],
 "metadata": {
  "kernelspec": {
   "display_name": "Python 3",
   "language": "python",
   "name": "python3"
  },
  "language_info": {
   "codemirror_mode": {
    "name": "ipython",
    "version": 3
   },
   "file_extension": ".py",
   "mimetype": "text/x-python",
   "name": "python",
   "nbconvert_exporter": "python",
   "pygments_lexer": "ipython3",
   "version": "3.6.1"
  }
 },
 "nbformat": 4,
 "nbformat_minor": 2
}
