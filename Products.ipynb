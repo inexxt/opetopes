{
 "cells": [
  {
   "cell_type": "code",
   "execution_count": 26,
   "metadata": {},
   "outputs": [
    {
     "name": "stdout",
     "output_type": "stream",
     "text": [
      "The autoreload extension is already loaded. To reload it, use:\n",
      "  %reload_ext autoreload\n"
     ]
    }
   ],
   "source": [
    "%load_ext autoreload\n",
    "%autoreload 2"
   ]
  },
  {
   "cell_type": "code",
   "execution_count": 40,
   "metadata": {},
   "outputs": [],
   "source": [
    "# Double induction\n",
    "# - over dimension of the opetope\n",
    "# - over dimension of the faces "
   ]
  },
  {
   "cell_type": "code",
   "execution_count": 41,
   "metadata": {},
   "outputs": [],
   "source": [
    "from Opetope import Opetope, Face, flatten, clear_cache, MEMO"
   ]
  },
  {
   "cell_type": "code",
   "execution_count": 42,
   "metadata": {},
   "outputs": [
    {
     "name": "stdout",
     "output_type": "stream",
     "text": [
      "(whole1: [(alpha: [(ab: [a] -> b), (bc: [b] -> c)] -> (ac: [a] -> c)), (beta: [(ac: [a] -> c), (cd: [c] -> d)] -> (ad: [a] -> d))] -> (gamma: [(ab: [a] -> b), (bc: [b] -> c), (cd: [c] -> d)] -> (ad: [a] -> d)))\n"
     ]
    }
   ],
   "source": [
    "# test1 - OK\n",
    "a = Opetope(name='a')\n",
    "b = Opetope(name='b')\n",
    "c = Opetope(name='c')\n",
    "d = Opetope(name='d')\n",
    "\n",
    "ab = Opetope(ins=[a], out=b, name='ab')\n",
    "bc = Opetope(ins=[b], out=c, name='bc')\n",
    "cd = Opetope(ins=[c], out=d, name='cd')\n",
    "ad = Opetope(ins=[a], out=d, name='ad')\n",
    "ac = Opetope(ins=[a], out=c, name='ac')\n",
    "\n",
    "alpha = Opetope(ins=[ab, bc], out=ac, name='alpha')\n",
    "beta = Opetope(ins=[ac, cd], out=ad, name='beta')\n",
    "gamma = Opetope(ins=[ab, bc, cd], out=ad, name='gamma')\n",
    "\n",
    "whole1 = Opetope(ins=[alpha, beta], out=gamma, name='whole1')\n",
    "print(whole1)\n",
    "\n",
    "assert alpha.shape() == beta.shape()\n",
    "assert alpha.shape() != gamma.shape()"
   ]
  },
  {
   "cell_type": "code",
   "execution_count": 43,
   "metadata": {},
   "outputs": [],
   "source": [
    "from collections import Counter"
   ]
  },
  {
   "cell_type": "code",
   "execution_count": 47,
   "metadata": {},
   "outputs": [],
   "source": [
    "from typing import Set\n",
    "from pdb import set_trace\n",
    "from typing import List\n",
    "\n",
    "def build_possible_opetopes(op, building_blocks, P, Q):\n",
    "    # build all possible opetopes which have the codomain == op\n",
    "    # and are constructed only from elems\n",
    "    \n",
    "    # and proceed from here by DFS\n",
    "    results = set()\n",
    "    print(\"Starting DFS, out {} blocks {} P {} Q {}\".format(op, building_blocks, P, Q))\n",
    "    \n",
    "    DFS({op.out}, set(), building_blocks, results, op, P, Q)\n",
    "    return results\n",
    "    \n",
    "def DFS(current_ins: List[Face], used: List[Face], building_blocks: List[Face], results, target_out: Face, P: Opetope, Q: Opetope):\n",
    "#     set_trace()\n",
    "    \n",
    "    # if all \"used\" faces together form a valid opetope, we win \n",
    "    if (Opetope.match(ins=[u.p1 for u in used], out=target_out.p1) and\n",
    "        Opetope.match(ins=[u.p2 for u in used], out=target_out.p2)):\n",
    "        results.add(Face(p1=P, p2=Q, ins=used, out=target_out))\n",
    "#         print(\"Found face!!!\")\n",
    "        return\n",
    "    \n",
    "    # ugly hack, but points do not have themselves as outs, so it is needed\n",
    "    out = lambda x: x if not x.level else x.out\n",
    "    \n",
    "    # if not, we have to iterate through all possible to use opetopes and check each combination recursively\n",
    "    for b in building_blocks:\n",
    "        for i in current_ins:\n",
    "#             print(\"Now focusing on b: {} u: {}\".format(b, i))\n",
    "            if i.p1 == out(b.p1) and i.p2 == out(b.p2):\n",
    "                print(\"Used\")\n",
    "                DFS({*current_ins, *b.ins} - {i}, \n",
    "                    {*used, b}, \n",
    "                    {x for x in building_blocks if x != b}, \n",
    "                    results, \n",
    "                    target_out, P, Q)\n",
    "    \n",
    "    return\n",
    "    \n",
    "# todo change Set[Face] to OpetopicNet, imposing appropriate restrictions\n",
    "def product(P: Opetope, Q: Opetope, small_faces: Set[Face]) -> Set[Face]:\n",
    "    \n",
    "    print(\"Now analyzing opetopes {} and {}\".format(P, Q))\n",
    "    subs1 = P.all_subopetopes()\n",
    "    subs2 = Q.all_subopetopes()\n",
    "\n",
    "    # product is a set of Faces\n",
    "    # small_faces, because these are the ones that don't map to whole op1 and whole op2 simultaneously\n",
    "    \n",
    "    points = lambda s: {p for p in s if not p.level}\n",
    "    arrows = lambda s: {p for p in s if p.level == 1}\n",
    "    small_faces |= {Face.from_point_and_point(s1, s2) for s1 in points(subs1) for s2 in points(subs2)}\n",
    "    small_faces |= {Face.from_arrow_and_point(s1, s2) for s1 in arrows(subs1) for s2 in points(subs2)}\n",
    "    small_faces |= {Face.from_point_and_arrow(s1, s2) for s1 in points(subs1) for s2 in arrows(subs2)}\n",
    "    small_faces |= {Face.from_arrow_and_arrow(s1, s2) for s1 in arrows(subs1) for s2 in arrows(subs2)}\n",
    "    \n",
    "    \n",
    "    for s1 in subs1:\n",
    "        for s2 in subs2:\n",
    "            # starting induction with just points\n",
    "            # hopefully, it will work\n",
    "            # if not, then FIXME start induction with both points and arrows\n",
    "\n",
    "            if (s1, s2) != (P, Q) and (s1.level, s2.level) >= (1, 1):\n",
    "                small_faces |= product(s1, s2, small_faces)\n",
    "    \n",
    "    # now we only have to construct big_faces the faces which map simultaneously to whole op1 and whole op2\n",
    "    # minimal dimension of such a face is k = min(dim(P), dim(Q))\n",
    "    big_faces = set()\n",
    "    k = min(P.level, Q.level)\n",
    "    \n",
    "    # induction on l - dimension of such face\n",
    "    l = k\n",
    "    \n",
    "    # we proceed until there is no new face\n",
    "    while True:\n",
    "        # we have constructed all big faces of dimension < l\n",
    "        l += 1\n",
    "        \n",
    "        # the possible codomains of such a face are:\n",
    "        possible_codomains = []\n",
    "        # 1) all (l-1)-dimensional big_faces\n",
    "        possible_codomains += [f for f in big_faces if f.level < l]\n",
    "        \n",
    "        if l == k + 1:\n",
    "            possible_codomains += [f for f in small_faces if f.p1 == P and f.p2 == Q]\n",
    "        \n",
    "        # 2) if dim(P) <= dim(Q), then it may be a face that maps to P and codomain(Q)\n",
    "        if P.level < Q.level:\n",
    "            possible_codomains += [f for f in small_faces if f.p1 == P\n",
    "                                                          and f.p2 == Q.out]\n",
    "        # 3) if dim(Q) <= dim(P), then it may be a face that maps to Q and codomain(P)\n",
    "        if Q.level < P.level:\n",
    "            possible_codomains += [f for f in small_faces if f.p1 == P.out\n",
    "                                                          and f.p2 == Q]\n",
    "            \n",
    "        # 4) all faces that map to codomain(P) and codomain(Q) - I DON'T THINK THIS IS CORRECT\n",
    "#         possible_codomains += [f for f in small_faces if f.p1 == P.out\n",
    "#                                                       and f.p2 == Q.out]\n",
    "        \n",
    "#         set_trace()\n",
    "\n",
    "        # now, for each possible codomain, we build the opetope that contains it\n",
    "        new_opetopes = set()\n",
    "        for f in possible_codomains:\n",
    "            # TODO it won't work, f doesn't have \"level\"\n",
    "            # I think it is enough to build just from the stuff that has the right dimension\n",
    "            # eg, equal to dim(f)\n",
    "            building_blocks = {s for s in small_faces if s.level == f.level}\n",
    "            new_opetopes |= build_possible_opetopes(op=f, building_blocks=building_blocks, P=P, Q=Q)\n",
    "        \n",
    "        big_faces |= new_opetopes\n",
    "        \n",
    "        if not new_opetopes:\n",
    "            return small_faces | big_faces\n",
    "        "
   ]
  },
  {
   "cell_type": "code",
   "execution_count": 48,
   "metadata": {
    "scrolled": false
   },
   "outputs": [
    {
     "name": "stdout",
     "output_type": "stream",
     "text": [
      "Now analyzing opetopes (ab: [a] -> b) and (cd: [c] -> d)\n",
      "Starting DFS, out ((ab: [a] -> b), (cd: [c] -> d))!1\n",
      " blocks {((ab: [a] -> b), d)!1\n",
      ", ((ab: [a] -> b), c)!1\n",
      ", (a, (cd: [c] -> d))!1\n",
      ", ((ab: [a] -> b), (cd: [c] -> d))!1\n",
      ", (b, (cd: [c] -> d))!1\n",
      "} P (ab: [a] -> b) Q (cd: [c] -> d)\n",
      "Used\n",
      "Used\n",
      "Used\n",
      "Used\n",
      "Used\n",
      "Starting DFS, out ((ab: [a] -> b), (cd: [c] -> d))!2\n",
      " blocks set() P (ab: [a] -> b) Q (cd: [c] -> d)\n"
     ]
    },
    {
     "data": {
      "text/plain": [
       "{(b, c)!0,\n",
       " (b, d)!0,\n",
       " ((ab: [a] -> b), c)!1,\n",
       " (a, c)!0,\n",
       " (a, d)!0,\n",
       " (b, (cd: [c] -> d))!1,\n",
       " ((ab: [a] -> b), d)!1,\n",
       " ((ab: [a] -> b), (cd: [c] -> d))!2,\n",
       " (a, (cd: [c] -> d))!1,\n",
       " ((ab: [a] -> b), (cd: [c] -> d))!1}"
      ]
     },
     "execution_count": 48,
     "metadata": {},
     "output_type": "execute_result"
    }
   ],
   "source": [
    "op1 = Opetope(ins=[a], out=b, name=\"ab\")\n",
    "op2 = Opetope(ins=[c], out=d, name=\"cd\")\n",
    "\n",
    "p = product(op1, op2, set())\n",
    "p"
   ]
  },
  {
   "cell_type": "code",
   "execution_count": 49,
   "metadata": {},
   "outputs": [
    {
     "data": {
      "text/plain": [
       "10"
      ]
     },
     "execution_count": 49,
     "metadata": {},
     "output_type": "execute_result"
    }
   ],
   "source": [
    "len(p)"
   ]
  },
  {
   "cell_type": "code",
   "execution_count": null,
   "metadata": {
    "collapsed": true
   },
   "outputs": [],
   "source": []
  }
 ],
 "metadata": {
  "kernelspec": {
   "display_name": "Python 3",
   "language": "python",
   "name": "python3"
  }
 },
 "nbformat": 4,
 "nbformat_minor": 2
}
