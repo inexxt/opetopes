{
 "cells": [
  {
   "cell_type": "code",
   "execution_count": 1,
   "metadata": {
    "collapsed": true
   },
   "outputs": [],
   "source": [
    "import sys\n",
    "import yaml\n",
    "\n",
    "second = {\"a\": [], \"b\": [], \"ab\": [[\"a\"], \"b\"]}\n",
    "options = {\"unique_names\": True}\n",
    "\n",
    "FILE = \"./tests/from_zawadowski/Data13gFS.txt\"\n",
    "\n",
    "first = {}\n",
    "with open(FILE, \"r\") as f:\n",
    "    for l in sorted(f.readlines(), key=lambda x: int(x.split()[0])):\n",
    "        l = l.replace(\"\\n\", \"\")\n",
    "        l = l.split(\" \")\n",
    "        name = \"a{}\".format(l[0])\n",
    "        out = \"a{}\".format(l[1]) if l[1] != \"0\" else None\n",
    "        ins = [\"a{}\".format(t) for t in l[2:]]\n",
    "        \n",
    "        first[name] = [ins, out] if out else []\n",
    "\n",
    "del first[\"a0\"]\n",
    "\n",
    "from collections import OrderedDict\n",
    "result = dict([(\"first\", first), (\"second\", second), (\"options\", options)])\n",
    "\n",
    "with open(FILE.split(\"/\")[-1].split(\"FS.txt\")[0].split(\"Data\")[1] + \".yaml\", \"w\") as f:\n",
    "    yaml.dump(result, f)"
   ]
  },
  {
   "cell_type": "code",
   "execution_count": 41,
   "metadata": {},
   "outputs": [
    {
     "name": "stdout",
     "output_type": "stream",
     "text": [
      "first:\r\n",
      "  a1: []\r\n",
      "  a10:\r\n",
      "  - [a8]\r\n",
      "  - a7\r\n",
      "  a11:\r\n",
      "  - [a10]\r\n",
      "  - a9\r\n",
      "  a12:\r\n",
      "  - [a10]\r\n",
      "  - a9\r\n",
      "  a13:\r\n",
      "  - [a12]\r\n",
      "  - a11\r\n",
      "  a2: []\r\n",
      "  a3:\r\n",
      "  - [a2]\r\n",
      "  - a1\r\n",
      "  a4:\r\n",
      "  - [a2]\r\n",
      "  - a1\r\n",
      "  a5:\r\n",
      "  - [a4]\r\n",
      "  - a3\r\n",
      "  a6:\r\n",
      "  - [a4]\r\n",
      "  - a3\r\n",
      "  a7:\r\n",
      "  - [a6]\r\n",
      "  - a5\r\n",
      "  a8:\r\n",
      "  - [a6]\r\n",
      "  - a5\r\n",
      "  a9:\r\n",
      "  - [a8]\r\n",
      "  - a7\r\n",
      "options: {unique_names: true}\r\n",
      "second:\r\n",
      "  a: []\r\n",
      "  ab:\r\n",
      "  - [a]\r\n",
      "  - b\r\n",
      "  b: []\r\n"
     ]
    }
   ],
   "source": []
  },
  {
   "cell_type": "code",
   "execution_count": null,
   "metadata": {
    "collapsed": true
   },
   "outputs": [],
   "source": []
  }
 ],
 "metadata": {
  "kernelspec": {
   "display_name": "Python 3",
   "language": "python",
   "name": "python3"
  },
  "language_info": {
   "codemirror_mode": {
    "name": "ipython",
    "version": 3
   },
   "file_extension": ".py",
   "mimetype": "text/x-python",
   "name": "python",
   "nbconvert_exporter": "python",
   "pygments_lexer": "ipython3",
   "version": "3.6.1"
  }
 },
 "nbformat": 4,
 "nbformat_minor": 2
}
