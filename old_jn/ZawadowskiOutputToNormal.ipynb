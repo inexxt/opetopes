{
 "cells": [
  {
   "cell_type": "code",
   "execution_count": 9,
   "metadata": {
    "collapsed": true
   },
   "outputs": [],
   "source": [
    "FILE = \"./Data09WalkProdFaces.txt\""
   ]
  },
  {
   "cell_type": "code",
   "execution_count": 10,
   "metadata": {
    "collapsed": true
   },
   "outputs": [],
   "source": [
    "from itertools import takewhile\n",
    "from collections import defaultdict\n",
    "from toposort import toposort_flatten"
   ]
  },
  {
   "cell_type": "code",
   "execution_count": 11,
   "metadata": {
    "collapsed": true
   },
   "outputs": [],
   "source": [
    "def removewhile(pred, iterator):\n",
    "    condition = True\n",
    "    result = []\n",
    "    for i in iterator:\n",
    "        if not pred(i):\n",
    "            condition = False\n",
    "        if not condition:\n",
    "            result.append(i)\n",
    "    return result\n",
    "\n",
    "x = [0,0,1,0,1]\n",
    "assert removewhile(lambda x: x == 0, x) == [1, 0, 1]"
   ]
  },
  {
   "cell_type": "code",
   "execution_count": 12,
   "metadata": {
    "collapsed": true
   },
   "outputs": [],
   "source": [
    "lines = []\n",
    "with open(FILE, \"r\") as f:\n",
    "    for l in f.readlines():\n",
    "        lines.append(l)\n",
    "lines = lines[4:-6]"
   ]
  },
  {
   "cell_type": "code",
   "execution_count": 13,
   "metadata": {},
   "outputs": [
    {
     "data": {
      "text/plain": [
       "[]"
      ]
     },
     "execution_count": 13,
     "metadata": {},
     "output_type": "execute_result"
    }
   ],
   "source": [
    "faces_desc = [[]]\n",
    "\n",
    "for l in lines:\n",
    "    if l == \"\\n\":\n",
    "        faces_desc.append([])\n",
    "    else:\n",
    "        faces_desc[-1].append(l.replace(\"\\n\", \"\").strip())\n",
    "\n",
    "faces_desc.pop()"
   ]
  },
  {
   "cell_type": "code",
   "execution_count": 14,
   "metadata": {
    "collapsed": true
   },
   "outputs": [],
   "source": [
    "final_list = []\n",
    "\n",
    "def clean(f_descp):\n",
    "    f_desc = [(x.strip(), y.strip()) for l in f_descp for x, y in [l.split(\"|\")]]\n",
    "    original_number = f_desc[0][0].split(\" \")[0] \n",
    "    f_desc[0] = (f_desc[0][0].split(\" \")[-1], f_desc[0][1])\n",
    "    return (original_number, f_desc)\n",
    "\n",
    "finals = {}\n",
    "newnames = {}\n",
    "\n",
    "for f_descp in faces_desc:\n",
    "    orig, f_desc = clean(f_descp)\n",
    "    \n",
    "    faces = [[] for _ in range(len(list(x for x in f_desc[0][1].split(\" \") if x)) + 1)]\n",
    "    for f, s in f_desc:\n",
    "        faces[0].append(f)\n",
    "        for e, k in enumerate([x for x in s.split(\" \") if x]):\n",
    "            if k:\n",
    "                faces[e+1].append(k)\n",
    "            \n",
    "    def transform(faces):\n",
    "        return [list(removewhile(lambda x: x == 0, map(lambda x: int(x), [x for x in ff[:-1] if x != \"--\"])))\n",
    "                for ff in faces if \"\".join(ff) not in [\"\", \"--\"]]\n",
    "    faces = transform(faces)\n",
    "    \n",
    "    def goc(name):\n",
    "        if not name:\n",
    "            return None\n",
    "        name = tuple(name)\n",
    "        if name in newnames:\n",
    "            return newnames[name]\n",
    "        else:\n",
    "            newnames[name] = len(newnames)\n",
    "            return newnames[name]\n",
    "    \n",
    "    name = goc(faces[0])\n",
    "    insf = goc(faces[1] if len(faces) > 1 else None)\n",
    "    outf = [goc(f) for f in faces[2:]]\n",
    "#     print(orig, faces[0], name, insf, outf, faces)\n",
    "    finals[name] = (insf, outf)\n",
    "\n",
    "dims = defaultdict(int)\n",
    "\n",
    "for elem in toposort_flatten({k: set(v) for k, vv in finals.items() for _, v in [vv]}):\n",
    "    dims[elem] = dims[finals[elem][0]] + 1\n",
    "\n",
    "dims = {k: v - 1 for k, v in dims.items()}\n",
    "del dims[None]"
   ]
  },
  {
   "cell_type": "code",
   "execution_count": 15,
   "metadata": {},
   "outputs": [],
   "source": [
    "# {k: (v, dims[k]) for k, v in finals.items()}"
   ]
  },
  {
   "cell_type": "code",
   "execution_count": 16,
   "metadata": {},
   "outputs": [
    {
     "name": "stdout",
     "output_type": "stream",
     "text": [
      "[(0, 8), (1, 16), (2, 17), (3, 8)]\n",
      "49\n"
     ]
    }
   ],
   "source": [
    "from collections import Counter\n",
    "print([(k, v) for k, v in list(sorted(Counter(dims.values()).items()))])\n",
    "print(len(dims))"
   ]
  },
  {
   "cell_type": "code",
   "execution_count": null,
   "metadata": {
    "collapsed": true
   },
   "outputs": [],
   "source": []
  }
 ],
 "metadata": {
  "kernelspec": {
   "display_name": "Python 3",
   "language": "python",
   "name": "python3"
  },
  "language_info": {
   "codemirror_mode": {
    "name": "ipython",
    "version": 3
   },
   "file_extension": ".py",
   "mimetype": "text/x-python",
   "name": "python",
   "nbconvert_exporter": "python",
   "pygments_lexer": "ipython3",
   "version": "3.6.1"
  }
 },
 "nbformat": 4,
 "nbformat_minor": 2
}
