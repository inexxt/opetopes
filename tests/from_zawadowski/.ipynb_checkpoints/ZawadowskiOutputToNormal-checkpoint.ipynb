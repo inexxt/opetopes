{
 "cells": [
  {
   "cell_type": "code",
   "execution_count": 17,
   "metadata": {
    "collapsed": true
   },
   "outputs": [],
   "source": [
    "FILE = \"./Data09WalkProdFaces.txt\""
   ]
  },
  {
   "cell_type": "code",
   "execution_count": 18,
   "metadata": {
    "collapsed": true
   },
   "outputs": [],
   "source": [
    "from itertools import takewhile\n",
    "from collections import defaultdict\n",
    "from toposort import toposort_flatten"
   ]
  },
  {
   "cell_type": "code",
   "execution_count": 19,
   "metadata": {
    "collapsed": true
   },
   "outputs": [],
   "source": [
    "def removewhile(pred, iterator):\n",
    "    condition = True\n",
    "    result = []\n",
    "    for i in iterator:\n",
    "        if not pred(i):\n",
    "            condition = False\n",
    "        if not condition:\n",
    "            result.append(i)\n",
    "    return result\n",
    "\n",
    "x = [0,0,1,0,1]\n",
    "assert removewhile(lambda x: x == 0, x) == [1, 0, 1]"
   ]
  },
  {
   "cell_type": "code",
   "execution_count": 20,
   "metadata": {
    "collapsed": true
   },
   "outputs": [],
   "source": [
    "lines = []\n",
    "with open(FILE, \"r\") as f:\n",
    "    for l in f.readlines():\n",
    "        lines.append(l)\n",
    "lines = lines[4:-6]"
   ]
  },
  {
   "cell_type": "code",
   "execution_count": 21,
   "metadata": {},
   "outputs": [
    {
     "data": {
      "text/plain": [
       "[]"
      ]
     },
     "execution_count": 21,
     "metadata": {},
     "output_type": "execute_result"
    }
   ],
   "source": [
    "faces_desc = [[]]\n",
    "\n",
    "for l in lines:\n",
    "    if l == \"\\n\":\n",
    "        faces_desc.append([])\n",
    "    else:\n",
    "        faces_desc[-1].append(l.replace(\"\\n\", \"\").strip())\n",
    "\n",
    "faces_desc.pop()"
   ]
  },
  {
   "cell_type": "code",
   "execution_count": 22,
   "metadata": {
    "collapsed": true
   },
   "outputs": [],
   "source": [
    "final_list = []\n",
    "\n",
    "def clean(f_descp):\n",
    "    f_desc = [(x.strip(), y.strip()) for l in f_descp for x, y in [l.split(\"|\")]]\n",
    "    original_number = f_desc[0][0].split(\" \")[0] \n",
    "    f_desc[0] = (f_desc[0][0].split(\" \")[-1], f_desc[0][1])\n",
    "    return (original_number, f_desc)\n",
    "\n",
    "finals = {}\n",
    "newnames = {}\n",
    "\n",
    "for f_descp in faces_desc:\n",
    "    orig, f_desc = clean(f_descp)\n",
    "    \n",
    "    faces = [[] for _ in range(len(list(x for x in f_desc[0][1].split(\" \") if x)) + 1)]\n",
    "    for f, s in f_desc:\n",
    "        faces[0].append(f)\n",
    "        for e, k in enumerate([x for x in s.split(\" \") if x]):\n",
    "            if k:\n",
    "                faces[e+1].append(k)\n",
    "            \n",
    "    def transform(faces):\n",
    "        return [list(removewhile(lambda x: x == 0, map(lambda x: int(x), [x for x in ff[:-1] if x != \"--\"])))\n",
    "                for ff in faces if \"\".join(ff) not in [\"\", \"--\"]]\n",
    "    faces = transform(faces)\n",
    "    \n",
    "    def goc(name):\n",
    "        if not name:\n",
    "            return None\n",
    "        name = tuple(name)\n",
    "        if name in newnames:\n",
    "            return newnames[name]\n",
    "        else:\n",
    "            newnames[name] = len(newnames)\n",
    "            return newnames[name]\n",
    "    \n",
    "    name = goc(faces[0])\n",
    "    insf = goc(faces[1] if len(faces) > 1 else None)\n",
    "    outf = [goc(f) for f in faces[2:]]\n",
    "#     print(orig, faces[0], name, insf, outf, faces)\n",
    "    finals[name] = (insf, outf)\n",
    "\n",
    "dims = defaultdict(int)\n",
    "\n",
    "for elem in toposort_flatten({k: set(v) for k, vv in finals.items() for _, v in [vv]}):\n",
    "    dims[elem] = dims[finals[elem][0]] + 1\n",
    "\n",
    "dims = {k: v - 1 for k, v in dims.items()}\n",
    "del dims[None]"
   ]
  },
  {
   "cell_type": "code",
   "execution_count": 23,
   "metadata": {},
   "outputs": [
    {
     "data": {
      "text/plain": [
       "{0: ((None, []), 0),\n",
       " 1: ((None, []), 0),\n",
       " 2: ((None, []), 0),\n",
       " 3: ((None, []), 0),\n",
       " 4: ((0, [3]), 1),\n",
       " 5: ((0, [1]), 1),\n",
       " 6: ((1, [2]), 1),\n",
       " 7: ((2, [3]), 1),\n",
       " 8: ((4, [5, 6, 7]), 2),\n",
       " 9: ((None, []), 0),\n",
       " 10: ((None, []), 0),\n",
       " 11: ((None, []), 0),\n",
       " 12: ((None, []), 0),\n",
       " 13: ((9, [12]), 1),\n",
       " 14: ((9, [10]), 1),\n",
       " 15: ((10, [11]), 1),\n",
       " 16: ((11, [12]), 1),\n",
       " 17: ((13, [14, 15, 16]), 2),\n",
       " 18: ((9, [0]), 1),\n",
       " 19: ((10, [1]), 1),\n",
       " 20: ((11, [2]), 1),\n",
       " 21: ((12, [3]), 1),\n",
       " 22: ((23, [18, 4]), 2),\n",
       " 23: ((9, [3]), 1),\n",
       " 24: ((23, [21, 13]), 2),\n",
       " 25: ((26, [18, 5]), 2),\n",
       " 26: ((9, [1]), 1),\n",
       " 27: ((26, [19, 14]), 2),\n",
       " 28: ((29, [19, 6]), 2),\n",
       " 29: ((10, [2]), 1),\n",
       " 30: ((29, [20, 15]), 2),\n",
       " 31: ((32, [20, 7]), 2),\n",
       " 32: ((11, [3]), 1),\n",
       " 33: ((32, [21, 16]), 2),\n",
       " 34: ((35, [22, 8]), 3),\n",
       " 35: ((23, [7, 6, 5, 18]), 2),\n",
       " 36: ((35, [25, 37]), 3),\n",
       " 37: ((23, [7, 6, 26]), 2),\n",
       " 38: ((39, [27, 37]), 3),\n",
       " 39: ((23, [7, 6, 14, 19]), 2),\n",
       " 40: ((39, [28, 41]), 3),\n",
       " 41: ((23, [7, 29, 14]), 2),\n",
       " 42: ((43, [30, 41]), 3),\n",
       " 43: ((23, [7, 15, 14, 20]), 2),\n",
       " 44: ((43, [31, 45]), 3),\n",
       " 45: ((23, [32, 15, 14]), 2),\n",
       " 46: ((47, [33, 45]), 3),\n",
       " 47: ((23, [16, 15, 14, 21]), 2),\n",
       " 48: ((47, [24, 17]), 3)}"
      ]
     },
     "execution_count": 23,
     "metadata": {},
     "output_type": "execute_result"
    }
   ],
   "source": [
    "# {k: (v, dims[k]) for k, v in finals.items()}"
   ]
  },
  {
   "cell_type": "code",
   "execution_count": 35,
   "metadata": {},
   "outputs": [
    {
     "name": "stdout",
     "output_type": "stream",
     "text": [
      "{0: 8, 1: 16, 2: 17, 3: 8}\n",
      "49\n"
     ]
    }
   ],
   "source": [
    "from collections import Counter\n",
    "print([(k, v) for k, v in list(sorted(Counter(dims.values()).items()))])\n",
    "print(len(dims))"
   ]
  }
 ],
 "metadata": {
  "kernelspec": {
   "display_name": "Python 3",
   "language": "python",
   "name": "python3"
  },
  "language_info": {
   "codemirror_mode": {
    "name": "ipython",
    "version": 3
   },
   "file_extension": ".py",
   "mimetype": "text/x-python",
   "name": "python",
   "nbconvert_exporter": "python",
   "pygments_lexer": "ipython3",
   "version": "3.6.1"
  }
 },
 "nbformat": 4,
 "nbformat_minor": 2
}
