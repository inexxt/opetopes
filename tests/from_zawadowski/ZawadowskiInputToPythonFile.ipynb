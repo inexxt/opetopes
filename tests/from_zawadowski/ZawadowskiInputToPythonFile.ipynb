{
 "cells": [
  {
   "cell_type": "code",
   "execution_count": 85,
   "metadata": {
    "collapsed": true
   },
   "outputs": [],
   "source": [
    "FILE = \"Data09\""
   ]
  },
  {
   "cell_type": "code",
   "execution_count": 86,
   "metadata": {
    "collapsed": true
   },
   "outputs": [],
   "source": [
    "imports = \"\"\"from Opetope import Opetope, NegCounter\n",
    "from Products import product\n",
    "\n",
    "# union segment\n",
    "x = Opetope(name=\"x\") \n",
    "y = Opetope(name=\"y\") \n",
    "xy = Opetope(ins=[x], out=y, name=\"xy\")\n",
    "\n",
    "\"\"\""
   ]
  },
  {
   "cell_type": "code",
   "execution_count": 87,
   "metadata": {
    "collapsed": true
   },
   "outputs": [],
   "source": [
    "calculations = \"\"\"\n",
    "\n",
    "b, s = product(xy, {})\n",
    "p = b | s\n",
    "c = NegCounter()\n",
    "for x in p:\n",
    "    c[x.level] += 1\n",
    "print([(k, v) for k, v in sorted(list(c.counts.items()))])\n",
    "print(len(p))\n",
    "\"\"\""
   ]
  },
  {
   "cell_type": "code",
   "execution_count": 88,
   "metadata": {
    "collapsed": true
   },
   "outputs": [],
   "source": [
    "result = []\n",
    "with open(FILE + \"FS.txt\", \"r\") as f:\n",
    "    for l in f.readlines():\n",
    "        l = l.replace(\"\\n\", \"\")\n",
    "        l = l.split(\" \")\n",
    "        name = \"a{}\".format(l[0])\n",
    "        out = \"a{}\".format(l[1]) if l[1] != \"0\" else None\n",
    "        ins = \"[\" + \", \".join([\"a{}\".format(t) for t in l[2:]]) + \"]\"\n",
    "        \n",
    "        result.append(\"{} = Opetope(ins={}, out={}, name='{}')\".format(name, ins, out, name))"
   ]
  },
  {
   "cell_type": "code",
   "execution_count": 89,
   "metadata": {},
   "outputs": [],
   "source": [
    "result = \"\\n\".join(result[1:])"
   ]
  },
  {
   "cell_type": "code",
   "execution_count": 90,
   "metadata": {},
   "outputs": [],
   "source": [
    "result = imports + result + calculations.format(name)"
   ]
  },
  {
   "cell_type": "code",
   "execution_count": 91,
   "metadata": {
    "collapsed": true
   },
   "outputs": [],
   "source": [
    "with open(FILE + \"test.py\", \"w\") as f:\n",
    "    f.write(result)"
   ]
  },
  {
   "cell_type": "code",
   "execution_count": null,
   "metadata": {
    "collapsed": true
   },
   "outputs": [],
   "source": []
  }
 ],
 "metadata": {
  "kernelspec": {
   "display_name": "Python 3",
   "language": "python",
   "name": "python3"
  },
  "language_info": {
   "codemirror_mode": {
    "name": "ipython",
    "version": 3
   },
   "file_extension": ".py",
   "mimetype": "text/x-python",
   "name": "python",
   "nbconvert_exporter": "python",
   "pygments_lexer": "ipython3",
   "version": "3.6.1"
  }
 },
 "nbformat": 4,
 "nbformat_minor": 2
}
