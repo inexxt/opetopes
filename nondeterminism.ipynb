{
 "cells": [
  {
   "cell_type": "code",
   "execution_count": 1,
   "metadata": {
    "collapsed": true
   },
   "outputs": [],
   "source": [
    "t = [30, 37, 31, 25, 25, 37, 29, 24, 34, 29, 37, 37, 28, 31, 33, 25, 37, 25, 24, 31, 30, 28, 27, 28, 29, 31, 30, 33, 31, 31, 37, 37, 34, 37, 27, 31, 28, 25, 34, 31, 27, 25, 34, 27, 25, 34, 32, 31, 34, 24, 28, 30, 29, 25, 29, 34, 33, 27, 34, 28, 24, 26, 33, 37, 37, 33, 24, 30, 25, 30, 27, 34, 34, 27, 37, 25, 37, 37, 34, 34, 29, 25, 37, 34, 25, 29, 34, 29, 32, 27, 37, 24, 30, 33, 34, 31, 33, 31, 30]"
   ]
  },
  {
   "cell_type": "code",
   "execution_count": 15,
   "metadata": {},
   "outputs": [],
   "source": [
    "%matplotlib inline\n",
    "import matplotlib.pyplot as plt\n",
    "import seaborn as sns"
   ]
  },
  {
   "cell_type": "code",
   "execution_count": 16,
   "metadata": {},
   "outputs": [
    {
     "data": {
      "image/png": "[encoded data removed]",
      "text/plain": [
       "<matplotlib.figure.Figure at 0x7f762062a358>"
      ]
     },
     "metadata": {},
     "output_type": "display_data"
    }
   ],
   "source": [
    "plt.hist(t, bins=13)\n",
    "plt.xticks = sorted(set(t))"
   ]
  },
  {
   "cell_type": "code",
   "execution_count": 11,
   "metadata": {},
   "outputs": [
    {
     "data": {
      "text/plain": [
       "Counter({24: 6,\n",
       "         25: 12,\n",
       "         26: 1,\n",
       "         27: 8,\n",
       "         28: 6,\n",
       "         29: 8,\n",
       "         30: 8,\n",
       "         31: 11,\n",
       "         32: 2,\n",
       "         33: 7,\n",
       "         34: 15,\n",
       "         37: 15})"
      ]
     },
     "execution_count": 11,
     "metadata": {},
     "output_type": "execute_result"
    }
   ],
   "source": [
    "from collections import Counter\n",
    "Counter(t)"
   ]
  },
  {
   "cell_type": "code",
   "execution_count": 12,
   "metadata": {},
   "outputs": [
    {
     "data": {
      "text/plain": [
       "99"
      ]
     },
     "execution_count": 12,
     "metadata": {},
     "output_type": "execute_result"
    }
   ],
   "source": [
    "len(t)"
   ]
  },
  {
   "cell_type": "code",
   "execution_count": null,
   "metadata": {
    "collapsed": true
   },
   "outputs": [],
   "source": []
  }
 ],
 "metadata": {
  "kernelspec": {
   "display_name": "Python 3",
   "language": "python",
   "name": "python3"
  },
  "language_info": {
   "codemirror_mode": {
    "name": "ipython",
    "version": 3
   },
   "file_extension": ".py",
   "mimetype": "text/x-python",
   "name": "python",
   "nbconvert_exporter": "python",
   "pygments_lexer": "ipython3",
   "version": "3.6.1"
  }
 },
 "nbformat": 4,
 "nbformat_minor": 2
}
