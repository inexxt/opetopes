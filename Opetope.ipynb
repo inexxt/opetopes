{
 "cells": [
  {
   "cell_type": "code",
   "execution_count": 5,
   "metadata": {},
   "outputs": [
    {
     "name": "stdout",
     "output_type": "stream",
     "text": [
      "The autoreload extension is already loaded. To reload it, use:\n",
      "  %reload_ext autoreload\n"
     ]
    }
   ],
   "source": [
    "%load_ext autoreload"
   ]
  },
  {
   "cell_type": "code",
   "execution_count": 6,
   "metadata": {
    "collapsed": true
   },
   "outputs": [],
   "source": [
    "%autoreload 2"
   ]
  },
  {
   "cell_type": "code",
   "execution_count": 7,
   "metadata": {
    "collapsed": true
   },
   "outputs": [],
   "source": [
    "from Opetope import Opetope, flatten, masks"
   ]
  },
  {
   "cell_type": "code",
   "execution_count": 8,
   "metadata": {},
   "outputs": [
    {
     "name": "stdout",
     "output_type": "stream",
     "text": [
      "[[[a] -> b, [b] -> c] -> [a] -> c, [[a] -> c, [c] -> d] -> [a] -> d] -> [[a] -> b, [b] -> c, [c] -> d] -> [a] -> d\n"
     ]
    }
   ],
   "source": [
    "# test1 - OK\n",
    "a = Opetope(name='a')\n",
    "b = Opetope(name='b')\n",
    "c = Opetope(name='c')\n",
    "d = Opetope(name='d')\n",
    "\n",
    "ab = Opetope(ins=[a], out=b, name='ab')\n",
    "bc = Opetope(ins=[b], out=c, name='bc')\n",
    "cd = Opetope(ins=[c], out=d, name='cd')\n",
    "ad = Opetope(ins=[a], out=d, name='ad')\n",
    "ac = Opetope(ins=[a], out=c, name='ac')\n",
    "\n",
    "alpha = Opetope(ins=[ab, bc], out=ac, name='alpha')\n",
    "beta = Opetope(ins=[ac, cd], out=ad, name='beta')\n",
    "gamma = Opetope(ins=[ab, bc, cd], out=ad, name='gamma')\n",
    "\n",
    "whole1 = Opetope(ins=[alpha, beta], out=gamma, name='whole1')\n",
    "print(whole1)"
   ]
  },
  {
   "cell_type": "code",
   "execution_count": 9,
   "metadata": {
    "collapsed": true
   },
   "outputs": [],
   "source": [
    "# a = Opetope(name='a')\n",
    "# aa = Opetope(ins=[a], out=a)\n",
    "# alpha = Opetope(ins=[], out=aa)\n",
    "# beta = Opetope(ins=[], out=aa)\n",
    "# T = Opetope(ins=[alpha], out=beta)"
   ]
  },
  {
   "cell_type": "code",
   "execution_count": 10,
   "metadata": {
    "collapsed": true
   },
   "outputs": [],
   "source": [
    "a = Opetope(name='a')\n",
    "b = Opetope(name='b')\n",
    "c = Opetope(name='c')\n",
    "d = Opetope(name='d')\n",
    "\n",
    "ab = Opetope(ins=[a], out=b, name='ab')\n",
    "bc = Opetope(ins=[b], out=c, name='bc')\n",
    "cd = Opetope(ins=[c], out=d, name='cd')\n",
    "ad = Opetope(ins=[a], out=d, name='ad')\n",
    "\n",
    "alpha = Opetope(ins=[ab, bc, cd], out=ad, name='alpha')"
   ]
  },
  {
   "cell_type": "code",
   "execution_count": 11,
   "metadata": {},
   "outputs": [
    {
     "name": "stdout",
     "output_type": "stream",
     "text": [
      "Found gluable\n",
      "Found gluable\n",
      "Found gluable\n",
      "Found gluable\n",
      "Found gluable\n",
      "Found gluable\n",
      "Found gluable\n",
      "Found gluable\n",
      "Found gluable\n",
      "Found gluable\n",
      "Found gluable\n",
      "Found gluable\n",
      "Found gluable\n",
      "Found gluable\n",
      "Found gluable\n",
      "Found gluable\n"
     ]
    },
    {
     "data": {
      "text/plain": [
       "{'': {'alpha|ad|ab',\n",
       "  'alpha|ad|bc',\n",
       "  'alpha|ad|cd',\n",
       "  'bc=d=ad=ab=c=cd=a=alpha=b'},\n",
       " '[[a] -> b, [b] -> c, [c] -> d] -> [a] -> d': {''},\n",
       " '[[a] -> b, [b] -> c] -> [a] -> d': {'[c=cd=d]', '[cd|d|c]'},\n",
       " '[[a] -> b, [c] -> d] -> [a] -> d': {'[bc|c|b]', '[c=bc=b]'},\n",
       " '[[a] -> b] -> [a] -> d': {'[bc|c|b, c=cd=d]',\n",
       "  '[bc|c|b, cd|d|c]',\n",
       "  '[c=bc=b, c=cd=d]',\n",
       "  '[c=bc=b, cd|d|c]'},\n",
       " '[[b] -> c, [c] -> d] -> [a] -> d': {'[ab|b|a]', '[b=ab=a]'},\n",
       " '[[b] -> c] -> [a] -> d': {'[ab|b|a, c=cd=d]',\n",
       "  '[ab|b|a, cd|d|c]',\n",
       "  '[b=ab=a, c=cd=d]',\n",
       "  '[b=ab=a, cd|d|c]'},\n",
       " '[[c] -> d] -> [a] -> d': {'[ab|b|a, bc|c|b]',\n",
       "  '[ab|b|a, c=bc=b]',\n",
       "  '[b=ab=a, bc|c|b]',\n",
       "  '[b=ab=a, c=bc=b]'},\n",
       " '[] -> [a] -> d': {'[ab|b|a, bc|c|b, c=cd=d]',\n",
       "  '[ab|b|a, bc|c|b, cd|d|c]',\n",
       "  '[ab|b|a, c=bc=b, c=cd=d]',\n",
       "  '[ab|b|a, c=bc=b, cd|d|c]',\n",
       "  '[b=ab=a, bc|c|b, c=cd=d]',\n",
       "  '[b=ab=a, bc|c|b, cd|d|c]',\n",
       "  '[b=ab=a, c=bc=b, c=cd=d]',\n",
       "  '[b=ab=a, c=bc=b, cd|d|c]'}}"
      ]
     },
     "execution_count": 11,
     "metadata": {},
     "output_type": "execute_result"
    }
   ],
   "source": [
    "Opetope.degenerations(alpha, remove_names=False)"
   ]
  },
  {
   "cell_type": "code",
   "execution_count": 90,
   "metadata": {},
   "outputs": [
    {
     "data": {
      "text/plain": [
       "['a', 'c', 'b', 'ac', 'bc', 'ab', 'alpha']"
      ]
     },
     "execution_count": 90,
     "metadata": {},
     "output_type": "execute_result"
    }
   ],
   "source": [
    "alpha.subnames"
   ]
  },
  {
   "cell_type": "code",
   "execution_count": 66,
   "metadata": {
    "collapsed": true
   },
   "outputs": [],
   "source": [
    "a = Opetope(name='a')\n",
    "b = Opetope(name='b')\n",
    "c = Opetope()\n",
    "bb = Opetope(ins=[a], out=a)\n",
    "bc = Opetope(ins=[b], out=c)"
   ]
  },
  {
   "cell_type": "code",
   "execution_count": 114,
   "metadata": {},
   "outputs": [
    {
     "name": "stdout",
     "output_type": "stream",
     "text": [
      "[[[a] -> b, [b] -> c] -> [a] -> c] -> [[a] -> b, [b] -> c] -> [a] -> c\n"
     ]
    }
   ],
   "source": [
    "# test2 - TODO - it should be possible to construct sum of whole2 and cd\n",
    "a = Opetope(name='a')\n",
    "b = Opetope(name='b')\n",
    "c = Opetope(name='c')\n",
    "d = Opetope(name='d')\n",
    "\n",
    "ab = Opetope(ins=[a], out=b)\n",
    "bc = Opetope(ins=[b], out=c)\n",
    "ac = Opetope(ins=[a], out=c)\n",
    "cd = Opetope(ins=[c], out=d)\n",
    "\n",
    "alpha = Opetope(ins=[ab, bc], out=ac)\n",
    "beta = Opetope(ins=[ab, bc], out=ac)\n",
    "\n",
    "whole2 = Opetope(ins=[alpha], out=beta)\n",
    "print(whole2)"
   ]
  },
  {
   "cell_type": "code",
   "execution_count": 115,
   "metadata": {},
   "outputs": [
    {
     "data": {
      "text/plain": [
       "{[[a] -> b, [b] -> c] -> [a] -> c,\n",
       " [a] -> c,\n",
       " [[[a] -> b, [b] -> c] -> [a] -> c] -> [[a] -> b, [b] -> c] -> [a] -> c,\n",
       " c,\n",
       " b,\n",
       " a,\n",
       " [a] -> b,\n",
       " [b] -> c,\n",
       " [[a] -> b, [b] -> c] -> [a] -> c}"
      ]
     },
     "execution_count": 115,
     "metadata": {},
     "output_type": "execute_result"
    }
   ],
   "source": [
    "Opetope.all_subopetopes(whole2)"
   ]
  },
  {
   "cell_type": "code",
   "execution_count": 117,
   "metadata": {},
   "outputs": [
    {
     "data": {
      "text/plain": [
       "{'*',\n",
       " '[[[*] -> *, [*] -> *] -> [*] -> *] -> [[*] -> *, [*] -> *] -> [*] -> *',\n",
       " '[[[*] -> *] -> [*] -> *] -> [[*] -> *] -> [*] -> *',\n",
       " '[[] -> [*] -> *] -> [] -> [*] -> *',\n",
       " '[] -> [[*] -> *, [*] -> *] -> [*] -> *',\n",
       " '[] -> [[*] -> *] -> [*] -> *',\n",
       " '[] -> [] -> [*] -> *'}"
      ]
     },
     "execution_count": 117,
     "metadata": {},
     "output_type": "execute_result"
    }
   ],
   "source": [
    "Opetope.degenerations(whole2, remove_names=True)"
   ]
  },
  {
   "cell_type": "code",
   "execution_count": 98,
   "metadata": {},
   "outputs": [
    {
     "ename": "AssertionError",
     "evalue": "",
     "output_type": "error",
     "traceback": [
      "\u001b[0;31m---------------------------------------------------------------------------\u001b[0m",
      "\u001b[0;31mAssertionError\u001b[0m                            Traceback (most recent call last)",
      "\u001b[0;32m<ipython-input-98-5eae2ec9b9a9>\u001b[0m in \u001b[0;36m<module>\u001b[0;34m()\u001b[0m\n\u001b[1;32m     14\u001b[0m \u001b[0mbeta\u001b[0m \u001b[0;34m=\u001b[0m \u001b[0mOpetope\u001b[0m\u001b[0;34m(\u001b[0m\u001b[0mins\u001b[0m\u001b[0;34m=\u001b[0m\u001b[0;34m[\u001b[0m\u001b[0mad\u001b[0m\u001b[0;34m,\u001b[0m \u001b[0mdc\u001b[0m\u001b[0;34m]\u001b[0m\u001b[0;34m,\u001b[0m \u001b[0mout\u001b[0m\u001b[0;34m=\u001b[0m\u001b[0mac\u001b[0m\u001b[0;34m)\u001b[0m\u001b[0;34m\u001b[0m\u001b[0m\n\u001b[1;32m     15\u001b[0m \u001b[0;34m\u001b[0m\u001b[0m\n\u001b[0;32m---> 16\u001b[0;31m \u001b[0mwhole1\u001b[0m \u001b[0;34m=\u001b[0m \u001b[0mOpetope\u001b[0m\u001b[0;34m(\u001b[0m\u001b[0mins\u001b[0m\u001b[0;34m=\u001b[0m\u001b[0;34m[\u001b[0m\u001b[0malpha\u001b[0m\u001b[0;34m]\u001b[0m\u001b[0;34m,\u001b[0m \u001b[0mout\u001b[0m\u001b[0;34m=\u001b[0m\u001b[0mbeta\u001b[0m\u001b[0;34m)\u001b[0m\u001b[0;34m\u001b[0m\u001b[0m\n\u001b[0m\u001b[1;32m     17\u001b[0m \u001b[0mprint\u001b[0m\u001b[0;34m(\u001b[0m\u001b[0mwhole\u001b[0m\u001b[0;34m)\u001b[0m\u001b[0;34m\u001b[0m\u001b[0m\n",
      "\u001b[0;32m/home/jack/licencjat/Opetope.py\u001b[0m in \u001b[0;36m__init__\u001b[0;34m(self, ins, out, name)\u001b[0m\n\u001b[1;32m     35\u001b[0m             \u001b[0mself\u001b[0m\u001b[0;34m.\u001b[0m\u001b[0mlevel\u001b[0m \u001b[0;34m=\u001b[0m \u001b[0mout\u001b[0m\u001b[0;34m.\u001b[0m\u001b[0mlevel\u001b[0m \u001b[0;34m+\u001b[0m \u001b[0;36m1\u001b[0m\u001b[0;34m\u001b[0m\u001b[0m\n\u001b[1;32m     36\u001b[0m             \u001b[0;32mif\u001b[0m \u001b[0mself\u001b[0m\u001b[0;34m.\u001b[0m\u001b[0mlevel\u001b[0m \u001b[0;34m>\u001b[0m \u001b[0;36m1\u001b[0m\u001b[0;34m:\u001b[0m\u001b[0;34m\u001b[0m\u001b[0m\n\u001b[0;32m---> 37\u001b[0;31m                 \u001b[0;32massert\u001b[0m \u001b[0mOpetope\u001b[0m\u001b[0;34m.\u001b[0m\u001b[0mmatch\u001b[0m\u001b[0;34m(\u001b[0m\u001b[0mins\u001b[0m\u001b[0;34m,\u001b[0m \u001b[0mout\u001b[0m\u001b[0;34m)\u001b[0m\u001b[0;34m\u001b[0m\u001b[0m\n\u001b[0m\u001b[1;32m     38\u001b[0m \u001b[0;34m\u001b[0m\u001b[0m\n\u001b[1;32m     39\u001b[0m             \u001b[0;31m# check that lower level opetopes really \"match\"\u001b[0m\u001b[0;34m\u001b[0m\u001b[0;34m\u001b[0m\u001b[0m\n",
      "\u001b[0;32m/home/jack/licencjat/Opetope.py\u001b[0m in \u001b[0;36mmatch\u001b[0;34m(ins, out)\u001b[0m\n\u001b[1;32m     53\u001b[0m         \u001b[0mins_of_out\u001b[0m \u001b[0;34m=\u001b[0m \u001b[0mset\u001b[0m\u001b[0;34m(\u001b[0m\u001b[0mout\u001b[0m\u001b[0;34m.\u001b[0m\u001b[0mins\u001b[0m\u001b[0;34m)\u001b[0m\u001b[0;34m\u001b[0m\u001b[0m\n\u001b[1;32m     54\u001b[0m         \u001b[0;32mfor\u001b[0m \u001b[0mopetope\u001b[0m \u001b[0;32min\u001b[0m \u001b[0mins\u001b[0m\u001b[0;34m:\u001b[0m\u001b[0;34m\u001b[0m\u001b[0m\n\u001b[0;32m---> 55\u001b[0;31m             \u001b[0;32massert\u001b[0m \u001b[0mall\u001b[0m\u001b[0;34m(\u001b[0m\u001b[0;34m[\u001b[0m\u001b[0mi\u001b[0m \u001b[0;32min\u001b[0m \u001b[0mins_of_out\u001b[0m \u001b[0;32mfor\u001b[0m \u001b[0mi\u001b[0m \u001b[0;32min\u001b[0m \u001b[0mopetope\u001b[0m\u001b[0;34m.\u001b[0m\u001b[0mins\u001b[0m\u001b[0;34m]\u001b[0m\u001b[0;34m)\u001b[0m\u001b[0;34m\u001b[0m\u001b[0m\n\u001b[0m\u001b[1;32m     56\u001b[0m             \u001b[0mins_of_out\u001b[0m \u001b[0;34m-=\u001b[0m \u001b[0mset\u001b[0m\u001b[0;34m(\u001b[0m\u001b[0mopetope\u001b[0m\u001b[0;34m.\u001b[0m\u001b[0mins\u001b[0m\u001b[0;34m)\u001b[0m\u001b[0;34m\u001b[0m\u001b[0m\n\u001b[1;32m     57\u001b[0m             \u001b[0mins_of_out\u001b[0m\u001b[0;34m.\u001b[0m\u001b[0madd\u001b[0m\u001b[0;34m(\u001b[0m\u001b[0mopetope\u001b[0m\u001b[0;34m.\u001b[0m\u001b[0mout\u001b[0m\u001b[0;34m)\u001b[0m\u001b[0;34m\u001b[0m\u001b[0m\n",
      "\u001b[0;31mAssertionError\u001b[0m: "
     ]
    }
   ],
   "source": [
    "# test3 - wrong\n",
    "a = Opetope(name='a')\n",
    "b = Opetope(name='b')\n",
    "c = Opetope(name='c')\n",
    "d = Opetope(name='d')\n",
    "\n",
    "ab = Opetope(ins=[a], out=b)\n",
    "bc = Opetope(ins=[b], out=c)\n",
    "ad = Opetope(ins=[a], out=d)\n",
    "dc = Opetope(ins=[d], out=c)\n",
    "ac = Opetope(ins=[a], out=c)\n",
    "\n",
    "alpha = Opetope(ins=[ab, bc], out=ac)\n",
    "beta = Opetope(ins=[ad, dc], out=ac)\n",
    "\n",
    "whole1 = Opetope(ins=[alpha], out=beta)\n",
    "print(whole)"
   ]
  },
  {
   "cell_type": "code",
   "execution_count": 107,
   "metadata": {},
   "outputs": [
    {
     "data": {
      "text/plain": [
       "([[a] -> b, [b] -> c] -> [a] -> c,)"
      ]
     },
     "execution_count": 107,
     "metadata": {},
     "output_type": "execute_result"
    }
   ],
   "source": [
    "whole1.ins"
   ]
  },
  {
   "cell_type": "code",
   "execution_count": null,
   "metadata": {
    "collapsed": true
   },
   "outputs": [],
   "source": []
  }
 ],
 "metadata": {
  "kernelspec": {
   "display_name": "Python 3",
   "language": "python",
   "name": "python3"
  },
  "language_info": {
   "codemirror_mode": {
    "name": "ipython",
    "version": 3
   },
   "file_extension": ".py",
   "mimetype": "text/x-python",
   "name": "python",
   "nbconvert_exporter": "python",
   "pygments_lexer": "ipython3",
   "version": "3.6.1"
  }
 },
 "nbformat": 4,
 "nbformat_minor": 2
}
