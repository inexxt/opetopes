{
 "cells": [
  {
   "cell_type": "code",
   "execution_count": 1,
   "metadata": {
    "scrolled": true
   },
   "outputs": [],
   "source": [
    "%load_ext autoreload"
   ]
  },
  {
   "cell_type": "code",
   "execution_count": 2,
   "metadata": {
    "collapsed": true
   },
   "outputs": [],
   "source": [
    "%autoreload 2"
   ]
  },
  {
   "cell_type": "code",
   "execution_count": 3,
   "metadata": {
    "scrolled": true
   },
   "outputs": [],
   "source": [
    "from Opetope import Opetope, flatten, masks, clear_cache, MEMO\n",
    "import pdb"
   ]
  },
  {
   "cell_type": "code",
   "execution_count": 4,
   "metadata": {},
   "outputs": [
    {
     "name": "stdout",
     "output_type": "stream",
     "text": [
      "(whole1: [(alpha: [(ab: [a] -> b), (bc: [b] -> c)] -> (ac: [a] -> c)), (beta: [(ac: [a] -> c), (cd: [c] -> d)] -> (ad: [a] -> d))] -> (gamma: [(ab: [a] -> b), (bc: [b] -> c), (cd: [c] -> d)] -> (ad: [a] -> d)))\n"
     ]
    }
   ],
   "source": [
    "# test1 - OK\n",
    "a = Opetope(name='a')\n",
    "b = Opetope(name='b')\n",
    "c = Opetope(name='c')\n",
    "d = Opetope(name='d')\n",
    "\n",
    "ab = Opetope(ins=[a], out=b, name='ab')\n",
    "bc = Opetope(ins=[b], out=c, name='bc')\n",
    "cd = Opetope(ins=[c], out=d, name='cd')\n",
    "ad = Opetope(ins=[a], out=d, name='ad')\n",
    "ac = Opetope(ins=[a], out=c, name='ac')\n",
    "\n",
    "alpha = Opetope(ins=[ab, bc], out=ac, name='alpha')\n",
    "beta = Opetope(ins=[ac, cd], out=ad, name='beta')\n",
    "gamma = Opetope(ins=[ab, bc, cd], out=ad, name='gamma')\n",
    "\n",
    "whole1 = Opetope(ins=[alpha, beta], out=gamma, name='whole1')\n",
    "print(whole1)"
   ]
  },
  {
   "cell_type": "code",
   "execution_count": 5,
   "metadata": {
    "collapsed": true
   },
   "outputs": [],
   "source": [
    "clear_cache()"
   ]
  },
  {
   "cell_type": "code",
   "execution_count": 6,
   "metadata": {
    "scrolled": false
   },
   "outputs": [
    {
     "name": "stdout",
     "output_type": "stream",
     "text": [
      "Now looking at;\n",
      "\n",
      "\n",
      "Is gluable?  True\n",
      "gluing  ab\n",
      "glued  ab\n",
      "Now looking at;\n",
      "\n",
      "\n",
      "Is gluable?  True\n",
      "gluing  bc\n",
      "glued  bc\n",
      "Now looking at;\n",
      "\n",
      "\n",
      "Is gluable?  True\n",
      "gluing  cd\n",
      "glued  cd\n",
      "Now looking at;\n",
      "\n",
      "\n",
      "Is gluable?  True\n",
      "gluing  beta\n",
      "glued  beta\n",
      "Now looking at;\n",
      "\n",
      "\n",
      "Is gluable?  True\n",
      "gluing  whole1\n",
      "glued  whole1\n",
      "Now looking at;\n",
      "\n",
      "\n",
      "ungluing  whole1\n",
      "unglued  whole1\n",
      "ungluing  beta\n",
      "unglued  beta\n",
      "ungluing  cd\n",
      "unglued  cd\n",
      "ungluing  bc\n",
      "unglued  bc\n",
      "Is gluable?  True\n",
      "gluing  cd\n",
      "glued  cd\n",
      "Now looking at;\n",
      "\n",
      "\n",
      "Is gluable?  True\n",
      "gluing  bc\n",
      "glued  bc\n",
      "Now looking at;\n",
      "\n",
      "\n",
      "Is gluable?  True\n",
      "gluing  beta\n",
      "glued  beta\n",
      "ungluing  beta\n",
      "unglued  beta\n",
      "ungluing  bc\n",
      "unglued  bc\n",
      "Is gluable?  True\n",
      "gluing  beta\n",
      "glued  beta\n",
      "Now looking at;\n",
      "\n",
      "\n",
      "Is gluable?  True\n",
      "gluing  bc\n",
      "glued  bc\n",
      "ungluing  bc\n",
      "unglued  bc\n",
      "Is gluable?  True\n",
      "gluing  alpha\n",
      "glued  alpha\n",
      "Now looking at;\n",
      "\n",
      "\n",
      "Is gluable?  True\n",
      "gluing  alpha\n",
      "glued  alpha\n",
      "Now looking at;\n",
      "\n",
      "\n",
      "ungluing  alpha\n",
      "unglued  alpha\n",
      "ungluing  alpha\n",
      "unglued  alpha\n",
      "Is gluable?  False\n",
      "gluing  whole1\n"
     ]
    },
    {
     "ename": "AssertionError",
     "evalue": "",
     "output_type": "error",
     "traceback": [
      "\u001b[0;31m---------------------------------------------------------------------------\u001b[0m",
      "\u001b[0;31mAssertionError\u001b[0m                            Traceback (most recent call last)",
      "\u001b[0;32m<ipython-input-6-63b38a57278b>\u001b[0m in \u001b[0;36m<module>\u001b[0;34m()\u001b[0m\n\u001b[0;32m----> 1\u001b[0;31m \u001b[0mOpetope\u001b[0m\u001b[0;34m.\u001b[0m\u001b[0mdegenerations\u001b[0m\u001b[0;34m(\u001b[0m\u001b[0mwhole1\u001b[0m\u001b[0;34m)\u001b[0m\u001b[0;34m\u001b[0m\u001b[0m\n\u001b[0m",
      "\u001b[0;32m/home/jack/licencjat/Opetope.py\u001b[0m in \u001b[0;36mdegenerations\u001b[0;34m(opetope, remove_names)\u001b[0m\n\u001b[1;32m    262\u001b[0m     \u001b[0;32mdef\u001b[0m \u001b[0mdegenerations\u001b[0m\u001b[0;34m(\u001b[0m\u001b[0mopetope\u001b[0m\u001b[0;34m,\u001b[0m \u001b[0mremove_names\u001b[0m\u001b[0;34m=\u001b[0m\u001b[0;32mFalse\u001b[0m\u001b[0;34m)\u001b[0m\u001b[0;34m:\u001b[0m\u001b[0;34m\u001b[0m\u001b[0m\n\u001b[1;32m    263\u001b[0m         \u001b[0mall_degenerations\u001b[0m \u001b[0;34m=\u001b[0m \u001b[0;34m{\u001b[0m\u001b[0mopetope\u001b[0m\u001b[0;34m.\u001b[0m\u001b[0mto_string\u001b[0m\u001b[0;34m(\u001b[0m\u001b[0;34m)\u001b[0m\u001b[0;34m}\u001b[0m\u001b[0;34m\u001b[0m\u001b[0m\n\u001b[0;32m--> 264\u001b[0;31m         \u001b[0mOpetope\u001b[0m\u001b[0;34m.\u001b[0m\u001b[0mdegenerations_helper\u001b[0m\u001b[0;34m(\u001b[0m\u001b[0mopetope\u001b[0m\u001b[0;34m,\u001b[0m \u001b[0mall_degenerations\u001b[0m\u001b[0;34m,\u001b[0m \u001b[0mopetope\u001b[0m\u001b[0;34m,\u001b[0m \u001b[0mshape\u001b[0m\u001b[0;34m=\u001b[0m\u001b[0mopetope\u001b[0m\u001b[0;34m.\u001b[0m\u001b[0mto_string\u001b[0m\u001b[0;34m(\u001b[0m\u001b[0;34m)\u001b[0m\u001b[0;34m,\u001b[0m \u001b[0mremove_names\u001b[0m\u001b[0;34m=\u001b[0m\u001b[0mremove_names\u001b[0m\u001b[0;34m)\u001b[0m\u001b[0;34m\u001b[0m\u001b[0m\n\u001b[0m\u001b[1;32m    265\u001b[0m         \u001b[0;32mreturn\u001b[0m \u001b[0mall_degenerations\u001b[0m\u001b[0;34m\u001b[0m\u001b[0m\n\u001b[1;32m    266\u001b[0m \u001b[0;34m\u001b[0m\u001b[0m\n",
      "\u001b[0;32m/home/jack/licencjat/Opetope.py\u001b[0m in \u001b[0;36mhelper\u001b[0;34m(*args, **kwargs)\u001b[0m\n\u001b[1;32m     37\u001b[0m         \u001b[0;32mif\u001b[0m \u001b[0mkwargs\u001b[0m\u001b[0;34m[\u001b[0m\u001b[0;34m\"shape\"\u001b[0m\u001b[0;34m]\u001b[0m \u001b[0;32mnot\u001b[0m \u001b[0;32min\u001b[0m \u001b[0mmemo\u001b[0m\u001b[0;34m:\u001b[0m\u001b[0;34m\u001b[0m\u001b[0m\n\u001b[1;32m     38\u001b[0m             \u001b[0mmemo\u001b[0m\u001b[0;34m.\u001b[0m\u001b[0madd\u001b[0m\u001b[0;34m(\u001b[0m\u001b[0mkwargs\u001b[0m\u001b[0;34m[\u001b[0m\u001b[0;34m\"shape\"\u001b[0m\u001b[0;34m]\u001b[0m\u001b[0;34m)\u001b[0m\u001b[0;34m\u001b[0m\u001b[0m\n\u001b[0;32m---> 39\u001b[0;31m             \u001b[0mf\u001b[0m\u001b[0;34m(\u001b[0m\u001b[0;34m*\u001b[0m\u001b[0margs\u001b[0m\u001b[0;34m,\u001b[0m \u001b[0;34m**\u001b[0m\u001b[0mkwargs\u001b[0m\u001b[0;34m)\u001b[0m\u001b[0;34m\u001b[0m\u001b[0m\n\u001b[0m\u001b[1;32m     40\u001b[0m         \u001b[0;32mreturn\u001b[0m\u001b[0;34m\u001b[0m\u001b[0m\n\u001b[1;32m     41\u001b[0m     \u001b[0;32mreturn\u001b[0m \u001b[0mhelper\u001b[0m\u001b[0;34m\u001b[0m\u001b[0m\n",
      "\u001b[0;32m/home/jack/licencjat/Opetope.py\u001b[0m in \u001b[0;36mdegenerations_helper\u001b[0;34m(opetope, all_degenerations, parent, shape, remove_names)\u001b[0m\n\u001b[1;32m    285\u001b[0m                 \u001b[0;31m# FIXME i probably want shape to be the shape of the current opetope, to stop recursion as early as possible\u001b[0m\u001b[0;34m\u001b[0m\u001b[0;34m\u001b[0m\u001b[0m\n\u001b[1;32m    286\u001b[0m                 \u001b[0;31m# but for now, it'll do\u001b[0m\u001b[0;34m\u001b[0m\u001b[0;34m\u001b[0m\u001b[0m\n\u001b[0;32m--> 287\u001b[0;31m                 \u001b[0mOpetope\u001b[0m\u001b[0;34m.\u001b[0m\u001b[0mdegenerations_helper\u001b[0m\u001b[0;34m(\u001b[0m\u001b[0mopetope\u001b[0m\u001b[0;34m,\u001b[0m \u001b[0mall_degenerations\u001b[0m\u001b[0;34m,\u001b[0m \u001b[0mparent\u001b[0m\u001b[0;34m,\u001b[0m \u001b[0mshape\u001b[0m\u001b[0;34m=\u001b[0m\u001b[0mparent\u001b[0m\u001b[0;34m.\u001b[0m\u001b[0mto_string\u001b[0m\u001b[0;34m(\u001b[0m\u001b[0;34m)\u001b[0m\u001b[0;34m,\u001b[0m \u001b[0mremove_names\u001b[0m\u001b[0;34m=\u001b[0m\u001b[0mremove_names\u001b[0m\u001b[0;34m)\u001b[0m\u001b[0;34m\u001b[0m\u001b[0m\n\u001b[0m\u001b[1;32m    288\u001b[0m                 \u001b[0mx\u001b[0m\u001b[0;34m.\u001b[0m\u001b[0munglue\u001b[0m\u001b[0;34m(\u001b[0m\u001b[0mparent_debug\u001b[0m\u001b[0;34m=\u001b[0m\u001b[0mparent\u001b[0m\u001b[0;34m)\u001b[0m\u001b[0;34m\u001b[0m\u001b[0m\n\u001b[1;32m    289\u001b[0m                 \u001b[0;31m# x,is_gluable = lambda: False\u001b[0m\u001b[0;34m\u001b[0m\u001b[0;34m\u001b[0m\u001b[0m\n",
      "\u001b[0;32m/home/jack/licencjat/Opetope.py\u001b[0m in \u001b[0;36mhelper\u001b[0;34m(*args, **kwargs)\u001b[0m\n\u001b[1;32m     37\u001b[0m         \u001b[0;32mif\u001b[0m \u001b[0mkwargs\u001b[0m\u001b[0;34m[\u001b[0m\u001b[0;34m\"shape\"\u001b[0m\u001b[0;34m]\u001b[0m \u001b[0;32mnot\u001b[0m \u001b[0;32min\u001b[0m \u001b[0mmemo\u001b[0m\u001b[0;34m:\u001b[0m\u001b[0;34m\u001b[0m\u001b[0m\n\u001b[1;32m     38\u001b[0m             \u001b[0mmemo\u001b[0m\u001b[0;34m.\u001b[0m\u001b[0madd\u001b[0m\u001b[0;34m(\u001b[0m\u001b[0mkwargs\u001b[0m\u001b[0;34m[\u001b[0m\u001b[0;34m\"shape\"\u001b[0m\u001b[0;34m]\u001b[0m\u001b[0;34m)\u001b[0m\u001b[0;34m\u001b[0m\u001b[0m\n\u001b[0;32m---> 39\u001b[0;31m             \u001b[0mf\u001b[0m\u001b[0;34m(\u001b[0m\u001b[0;34m*\u001b[0m\u001b[0margs\u001b[0m\u001b[0;34m,\u001b[0m \u001b[0;34m**\u001b[0m\u001b[0mkwargs\u001b[0m\u001b[0;34m)\u001b[0m\u001b[0;34m\u001b[0m\u001b[0m\n\u001b[0m\u001b[1;32m     40\u001b[0m         \u001b[0;32mreturn\u001b[0m\u001b[0;34m\u001b[0m\u001b[0m\n\u001b[1;32m     41\u001b[0m     \u001b[0;32mreturn\u001b[0m \u001b[0mhelper\u001b[0m\u001b[0;34m\u001b[0m\u001b[0m\n",
      "\u001b[0;32m/home/jack/licencjat/Opetope.py\u001b[0m in \u001b[0;36mdegenerations_helper\u001b[0;34m(opetope, all_degenerations, parent, shape, remove_names)\u001b[0m\n\u001b[1;32m    285\u001b[0m                 \u001b[0;31m# FIXME i probably want shape to be the shape of the current opetope, to stop recursion as early as possible\u001b[0m\u001b[0;34m\u001b[0m\u001b[0;34m\u001b[0m\u001b[0m\n\u001b[1;32m    286\u001b[0m                 \u001b[0;31m# but for now, it'll do\u001b[0m\u001b[0;34m\u001b[0m\u001b[0;34m\u001b[0m\u001b[0m\n\u001b[0;32m--> 287\u001b[0;31m                 \u001b[0mOpetope\u001b[0m\u001b[0;34m.\u001b[0m\u001b[0mdegenerations_helper\u001b[0m\u001b[0;34m(\u001b[0m\u001b[0mopetope\u001b[0m\u001b[0;34m,\u001b[0m \u001b[0mall_degenerations\u001b[0m\u001b[0;34m,\u001b[0m \u001b[0mparent\u001b[0m\u001b[0;34m,\u001b[0m \u001b[0mshape\u001b[0m\u001b[0;34m=\u001b[0m\u001b[0mparent\u001b[0m\u001b[0;34m.\u001b[0m\u001b[0mto_string\u001b[0m\u001b[0;34m(\u001b[0m\u001b[0;34m)\u001b[0m\u001b[0;34m,\u001b[0m \u001b[0mremove_names\u001b[0m\u001b[0;34m=\u001b[0m\u001b[0mremove_names\u001b[0m\u001b[0;34m)\u001b[0m\u001b[0;34m\u001b[0m\u001b[0m\n\u001b[0m\u001b[1;32m    288\u001b[0m                 \u001b[0mx\u001b[0m\u001b[0;34m.\u001b[0m\u001b[0munglue\u001b[0m\u001b[0;34m(\u001b[0m\u001b[0mparent_debug\u001b[0m\u001b[0;34m=\u001b[0m\u001b[0mparent\u001b[0m\u001b[0;34m)\u001b[0m\u001b[0;34m\u001b[0m\u001b[0m\n\u001b[1;32m    289\u001b[0m                 \u001b[0;31m# x,is_gluable = lambda: False\u001b[0m\u001b[0;34m\u001b[0m\u001b[0;34m\u001b[0m\u001b[0m\n",
      "\u001b[0;32m/home/jack/licencjat/Opetope.py\u001b[0m in \u001b[0;36mhelper\u001b[0;34m(*args, **kwargs)\u001b[0m\n\u001b[1;32m     37\u001b[0m         \u001b[0;32mif\u001b[0m \u001b[0mkwargs\u001b[0m\u001b[0;34m[\u001b[0m\u001b[0;34m\"shape\"\u001b[0m\u001b[0;34m]\u001b[0m \u001b[0;32mnot\u001b[0m \u001b[0;32min\u001b[0m \u001b[0mmemo\u001b[0m\u001b[0;34m:\u001b[0m\u001b[0;34m\u001b[0m\u001b[0m\n\u001b[1;32m     38\u001b[0m             \u001b[0mmemo\u001b[0m\u001b[0;34m.\u001b[0m\u001b[0madd\u001b[0m\u001b[0;34m(\u001b[0m\u001b[0mkwargs\u001b[0m\u001b[0;34m[\u001b[0m\u001b[0;34m\"shape\"\u001b[0m\u001b[0;34m]\u001b[0m\u001b[0;34m)\u001b[0m\u001b[0;34m\u001b[0m\u001b[0m\n\u001b[0;32m---> 39\u001b[0;31m             \u001b[0mf\u001b[0m\u001b[0;34m(\u001b[0m\u001b[0;34m*\u001b[0m\u001b[0margs\u001b[0m\u001b[0;34m,\u001b[0m \u001b[0;34m**\u001b[0m\u001b[0mkwargs\u001b[0m\u001b[0;34m)\u001b[0m\u001b[0;34m\u001b[0m\u001b[0m\n\u001b[0m\u001b[1;32m     40\u001b[0m         \u001b[0;32mreturn\u001b[0m\u001b[0;34m\u001b[0m\u001b[0m\n\u001b[1;32m     41\u001b[0m     \u001b[0;32mreturn\u001b[0m \u001b[0mhelper\u001b[0m\u001b[0;34m\u001b[0m\u001b[0m\n",
      "\u001b[0;32m/home/jack/licencjat/Opetope.py\u001b[0m in \u001b[0;36mdegenerations_helper\u001b[0;34m(opetope, all_degenerations, parent, shape, remove_names)\u001b[0m\n\u001b[1;32m    285\u001b[0m                 \u001b[0;31m# FIXME i probably want shape to be the shape of the current opetope, to stop recursion as early as possible\u001b[0m\u001b[0;34m\u001b[0m\u001b[0;34m\u001b[0m\u001b[0m\n\u001b[1;32m    286\u001b[0m                 \u001b[0;31m# but for now, it'll do\u001b[0m\u001b[0;34m\u001b[0m\u001b[0;34m\u001b[0m\u001b[0m\n\u001b[0;32m--> 287\u001b[0;31m                 \u001b[0mOpetope\u001b[0m\u001b[0;34m.\u001b[0m\u001b[0mdegenerations_helper\u001b[0m\u001b[0;34m(\u001b[0m\u001b[0mopetope\u001b[0m\u001b[0;34m,\u001b[0m \u001b[0mall_degenerations\u001b[0m\u001b[0;34m,\u001b[0m \u001b[0mparent\u001b[0m\u001b[0;34m,\u001b[0m \u001b[0mshape\u001b[0m\u001b[0;34m=\u001b[0m\u001b[0mparent\u001b[0m\u001b[0;34m.\u001b[0m\u001b[0mto_string\u001b[0m\u001b[0;34m(\u001b[0m\u001b[0;34m)\u001b[0m\u001b[0;34m,\u001b[0m \u001b[0mremove_names\u001b[0m\u001b[0;34m=\u001b[0m\u001b[0mremove_names\u001b[0m\u001b[0;34m)\u001b[0m\u001b[0;34m\u001b[0m\u001b[0m\n\u001b[0m\u001b[1;32m    288\u001b[0m                 \u001b[0mx\u001b[0m\u001b[0;34m.\u001b[0m\u001b[0munglue\u001b[0m\u001b[0;34m(\u001b[0m\u001b[0mparent_debug\u001b[0m\u001b[0;34m=\u001b[0m\u001b[0mparent\u001b[0m\u001b[0;34m)\u001b[0m\u001b[0;34m\u001b[0m\u001b[0m\n\u001b[1;32m    289\u001b[0m                 \u001b[0;31m# x,is_gluable = lambda: False\u001b[0m\u001b[0;34m\u001b[0m\u001b[0;34m\u001b[0m\u001b[0m\n",
      "\u001b[0;32m/home/jack/licencjat/Opetope.py\u001b[0m in \u001b[0;36mhelper\u001b[0;34m(*args, **kwargs)\u001b[0m\n\u001b[1;32m     37\u001b[0m         \u001b[0;32mif\u001b[0m \u001b[0mkwargs\u001b[0m\u001b[0;34m[\u001b[0m\u001b[0;34m\"shape\"\u001b[0m\u001b[0;34m]\u001b[0m \u001b[0;32mnot\u001b[0m \u001b[0;32min\u001b[0m \u001b[0mmemo\u001b[0m\u001b[0;34m:\u001b[0m\u001b[0;34m\u001b[0m\u001b[0m\n\u001b[1;32m     38\u001b[0m             \u001b[0mmemo\u001b[0m\u001b[0;34m.\u001b[0m\u001b[0madd\u001b[0m\u001b[0;34m(\u001b[0m\u001b[0mkwargs\u001b[0m\u001b[0;34m[\u001b[0m\u001b[0;34m\"shape\"\u001b[0m\u001b[0;34m]\u001b[0m\u001b[0;34m)\u001b[0m\u001b[0;34m\u001b[0m\u001b[0m\n\u001b[0;32m---> 39\u001b[0;31m             \u001b[0mf\u001b[0m\u001b[0;34m(\u001b[0m\u001b[0;34m*\u001b[0m\u001b[0margs\u001b[0m\u001b[0;34m,\u001b[0m \u001b[0;34m**\u001b[0m\u001b[0mkwargs\u001b[0m\u001b[0;34m)\u001b[0m\u001b[0;34m\u001b[0m\u001b[0m\n\u001b[0m\u001b[1;32m     40\u001b[0m         \u001b[0;32mreturn\u001b[0m\u001b[0;34m\u001b[0m\u001b[0m\n\u001b[1;32m     41\u001b[0m     \u001b[0;32mreturn\u001b[0m \u001b[0mhelper\u001b[0m\u001b[0;34m\u001b[0m\u001b[0m\n",
      "\u001b[0;32m/home/jack/licencjat/Opetope.py\u001b[0m in \u001b[0;36mdegenerations_helper\u001b[0;34m(opetope, all_degenerations, parent, shape, remove_names)\u001b[0m\n\u001b[1;32m    282\u001b[0m             \u001b[0;32mfor\u001b[0m \u001b[0mx\u001b[0m \u001b[0;32min\u001b[0m \u001b[0msorted\u001b[0m\u001b[0;34m(\u001b[0m\u001b[0mlist\u001b[0m\u001b[0;34m(\u001b[0m\u001b[0mgluable\u001b[0m\u001b[0;34m)\u001b[0m\u001b[0;34m,\u001b[0m \u001b[0mkey\u001b[0m\u001b[0;34m=\u001b[0m\u001b[0;32mlambda\u001b[0m \u001b[0mx\u001b[0m\u001b[0;34m:\u001b[0m \u001b[0;34m(\u001b[0m\u001b[0mlen\u001b[0m\u001b[0;34m(\u001b[0m\u001b[0mx\u001b[0m\u001b[0;34m.\u001b[0m\u001b[0mname\u001b[0m\u001b[0;34m)\u001b[0m\u001b[0;34m,\u001b[0m \u001b[0mx\u001b[0m\u001b[0;34m.\u001b[0m\u001b[0mname\u001b[0m\u001b[0;34m)\u001b[0m\u001b[0;34m)\u001b[0m\u001b[0;34m:\u001b[0m\u001b[0;34m\u001b[0m\u001b[0m\n\u001b[1;32m    283\u001b[0m                 \u001b[0mprint\u001b[0m\u001b[0;34m(\u001b[0m\u001b[0;34m\"Is gluable? \"\u001b[0m\u001b[0;34m,\u001b[0m \u001b[0mx\u001b[0m\u001b[0;34m.\u001b[0m\u001b[0mis_gluable\u001b[0m\u001b[0;34m(\u001b[0m\u001b[0;34m)\u001b[0m\u001b[0;34m)\u001b[0m\u001b[0;34m\u001b[0m\u001b[0m\n\u001b[0;32m--> 284\u001b[0;31m                 \u001b[0mx\u001b[0m\u001b[0;34m.\u001b[0m\u001b[0mglue\u001b[0m\u001b[0;34m(\u001b[0m\u001b[0mparent_debug\u001b[0m\u001b[0;34m=\u001b[0m\u001b[0mparent\u001b[0m\u001b[0;34m)\u001b[0m\u001b[0;34m\u001b[0m\u001b[0m\n\u001b[0m\u001b[1;32m    285\u001b[0m                 \u001b[0;31m# FIXME i probably want shape to be the shape of the current opetope, to stop recursion as early as possible\u001b[0m\u001b[0;34m\u001b[0m\u001b[0;34m\u001b[0m\u001b[0m\n\u001b[1;32m    286\u001b[0m                 \u001b[0;31m# but for now, it'll do\u001b[0m\u001b[0;34m\u001b[0m\u001b[0;34m\u001b[0m\u001b[0m\n",
      "\u001b[0;32m/home/jack/licencjat/Opetope.py\u001b[0m in \u001b[0;36mglue\u001b[0;34m(self, parent_debug)\u001b[0m\n\u001b[1;32m    199\u001b[0m         \u001b[0mprint\u001b[0m\u001b[0;34m(\u001b[0m\u001b[0;34m\"gluing \"\u001b[0m\u001b[0;34m,\u001b[0m \u001b[0mself\u001b[0m\u001b[0;34m.\u001b[0m\u001b[0mname\u001b[0m\u001b[0;34m)\u001b[0m\u001b[0;34m\u001b[0m\u001b[0m\n\u001b[1;32m    200\u001b[0m         \u001b[0mprint_debug\u001b[0m\u001b[0;34m(\u001b[0m\u001b[0mparent_debug\u001b[0m\u001b[0;34m)\u001b[0m\u001b[0;34m\u001b[0m\u001b[0m\n\u001b[0;32m--> 201\u001b[0;31m         \u001b[0;32massert\u001b[0m \u001b[0mlen\u001b[0m\u001b[0;34m(\u001b[0m\u001b[0mself\u001b[0m\u001b[0;34m.\u001b[0m\u001b[0mins\u001b[0m\u001b[0;34m)\u001b[0m \u001b[0;34m==\u001b[0m \u001b[0;36m1\u001b[0m\u001b[0;34m\u001b[0m\u001b[0m\n\u001b[0m\u001b[1;32m    202\u001b[0m \u001b[0;34m\u001b[0m\u001b[0m\n\u001b[1;32m    203\u001b[0m         \u001b[0;31m# backup everything\u001b[0m\u001b[0;34m\u001b[0m\u001b[0;34m\u001b[0m\u001b[0m\n",
      "\u001b[0;31mAssertionError\u001b[0m: "
     ]
    }
   ],
   "source": [
    "Opetope.degenerations(whole1)"
   ]
  },
  {
   "cell_type": "code",
   "execution_count": null,
   "metadata": {},
   "outputs": [],
   "source": [
    "import pdb\n",
    "pdb.post_mortem()"
   ]
  },
  {
   "cell_type": "code",
   "execution_count": 26,
   "metadata": {},
   "outputs": [],
   "source": [
    "a = Opetope(name='a')\n",
    "b = Opetope(name='b')\n",
    "\n",
    "ab1 = Opetope(ins=[a], out=b, name='ab1')\n",
    "ab2 = Opetope(ins=[a], out=b, name='ab2')\n",
    "\n",
    "alpha = Opetope(ins=[ab1], out=ab2, name=\"alpha\")"
   ]
  },
  {
   "cell_type": "code",
   "execution_count": 27,
   "metadata": {},
   "outputs": [
    {
     "name": "stdout",
     "output_type": "stream",
     "text": [
      "Now looking at;\n",
      "\n",
      "\n",
      "Is gluable?  True\n",
      "gluing  Representation(rep='(ab1: [a] -> b)', mods=())\n",
      "glued  Representation(rep='ab1', mods=('ab1', 'a', 'b'))\n",
      "Now looking at;\n",
      "\n",
      "\n",
      "ungluing  Representation(rep='ab1', mods=('ab1', 'a', 'b'))\n",
      "unglued  Representation(rep='(ab1: [a] -> b)', mods=())\n",
      "Is gluable?  True\n",
      "gluing  Representation(rep='(alpha: [(ab1: [a] -> b)] -> (ab2: [a] -> b))', mods=())\n",
      "glued  Representation(rep='(alpha: [a] -> b)', mods=(('alpha', 'ab1', 'ab2'),))\n",
      "Now looking at;\n",
      "\n",
      "\n",
      "Is gluable?  True\n",
      "gluing  Representation(rep='(alpha: [a] -> b)', mods=(('alpha', 'ab1', 'ab2'),))\n",
      "glued  Representation(rep='alpha', mods=('alpha', 'a', 'b', 'alpha', 'ab1', 'ab2'))\n",
      "Now looking at;\n",
      "\n",
      "\n",
      "ungluing  Representation(rep='alpha', mods=('alpha', 'a', 'b', 'alpha', 'ab1', 'ab2'))\n",
      "unglued  Representation(rep='(alpha: [a] -> b)', mods=(('alpha', 'ab1', 'ab2'),))\n",
      "ungluing  Representation(rep='(alpha: [a] -> b)', mods=(('alpha', 'ab1', 'ab2'),))\n",
      "unglued  Representation(rep='(alpha: [(ab1: [a] -> b)] -> (ab2: [a] -> b))', mods=())\n"
     ]
    },
    {
     "data": {
      "text/plain": [
       "{Representation(rep='(alpha: [(ab1: [a] -> b)] -> (ab2: [a] -> b))', mods=()),\n",
       " Representation(rep='(alpha: [] -> (ab2: [a] -> b))', mods=()),\n",
       " Representation(rep='(alpha: [a] -> b)', mods=(('alpha', 'ab1', 'ab2'),)),\n",
       " Representation(rep='alpha', mods=('alpha', 'a', 'b', 'alpha', 'ab1', 'ab2'))}"
      ]
     },
     "execution_count": 27,
     "metadata": {},
     "output_type": "execute_result"
    }
   ],
   "source": [
    "clear_cache()\n",
    "Opetope.degenerations(alpha)"
   ]
  },
  {
   "cell_type": "code",
   "execution_count": null,
   "metadata": {},
   "outputs": [],
   "source": [
    "MEMO"
   ]
  },
  {
   "cell_type": "code",
   "execution_count": null,
   "metadata": {
    "collapsed": true
   },
   "outputs": [],
   "source": [
    "# a = Opetope(name='a')\n",
    "# aa = Opetope(ins=[a], out=a)\n",
    "# alpha = Opetope(ins=[], out=aa)\n",
    "# beta = Opetope(ins=[], out=aa)\n",
    "# T = Opetope(ins=[alpha], out=beta)"
   ]
  },
  {
   "cell_type": "code",
   "execution_count": null,
   "metadata": {
    "collapsed": true
   },
   "outputs": [],
   "source": [
    "a = Opetope(name='a')\n",
    "b = Opetope(name='b')\n",
    "c = Opetope(name='c')\n",
    "d = Opetope(name='d')\n",
    "\n",
    "ab = Opetope(ins=[a], out=b, name='ab')\n",
    "bc = Opetope(ins=[b], out=c, name='bc')\n",
    "cd = Opetope(ins=[c], out=d, name='cd')\n",
    "ad = Opetope(ins=[a], out=d, name='ad')\n",
    "\n",
    "alpha = Opetope(ins=[ab, bc, cd], out=ad, name='alpha')"
   ]
  },
  {
   "cell_type": "code",
   "execution_count": null,
   "metadata": {},
   "outputs": [],
   "source": [
    "Opetope.degenerations(alpha, remove_names=False)"
   ]
  },
  {
   "cell_type": "code",
   "execution_count": null,
   "metadata": {},
   "outputs": [],
   "source": [
    "alpha.subnames"
   ]
  },
  {
   "cell_type": "code",
   "execution_count": null,
   "metadata": {
    "collapsed": true
   },
   "outputs": [],
   "source": [
    "a = Opetope(name='a')\n",
    "b = Opetope(name='b')\n",
    "c = Opetope()\n",
    "bb = Opetope(ins=[a], out=a)\n",
    "bc = Opetope(ins=[b], out=c)"
   ]
  },
  {
   "cell_type": "code",
   "execution_count": null,
   "metadata": {},
   "outputs": [],
   "source": [
    "# test2 - TODO - it should be possible to construct sum of whole2 and cd\n",
    "a = Opetope(name='a')\n",
    "b = Opetope(name='b')\n",
    "c = Opetope(name='c')\n",
    "d = Opetope(name='d')\n",
    "\n",
    "ab = Opetope(ins=[a], out=b)\n",
    "bc = Opetope(ins=[b], out=c)\n",
    "ac = Opetope(ins=[a], out=c)\n",
    "cd = Opetope(ins=[c], out=d)\n",
    "\n",
    "alpha = Opetope(ins=[ab, bc], out=ac)\n",
    "beta = Opetope(ins=[ab, bc], out=ac)\n",
    "\n",
    "whole2 = Opetope(ins=[alpha], out=beta)\n",
    "print(whole2)"
   ]
  },
  {
   "cell_type": "code",
   "execution_count": null,
   "metadata": {},
   "outputs": [],
   "source": [
    "Opetope.all_subopetopes(whole2)"
   ]
  },
  {
   "cell_type": "code",
   "execution_count": null,
   "metadata": {},
   "outputs": [],
   "source": [
    "Opetope.degenerations(whole2, remove_names=True)"
   ]
  },
  {
   "cell_type": "code",
   "execution_count": null,
   "metadata": {},
   "outputs": [],
   "source": [
    "# test3 - wrong\n",
    "a = Opetope(name='a')\n",
    "b = Opetope(name='b')\n",
    "c = Opetope(name='c')\n",
    "d = Opetope(name='d')\n",
    "\n",
    "ab = Opetope(ins=[a], out=b)\n",
    "bc = Opetope(ins=[b], out=c)\n",
    "ad = Opetope(ins=[a], out=d)\n",
    "dc = Opetope(ins=[d], out=c)\n",
    "ac = Opetope(ins=[a], out=c)\n",
    "\n",
    "alpha = Opetope(ins=[ab, bc], out=ac)\n",
    "beta = Opetope(ins=[ad, dc], out=ac)\n",
    "\n",
    "whole1 = Opetope(ins=[alpha], out=beta)\n",
    "print(whole)"
   ]
  },
  {
   "cell_type": "code",
   "execution_count": null,
   "metadata": {},
   "outputs": [],
   "source": [
    "whole1.ins"
   ]
  },
  {
   "cell_type": "code",
   "execution_count": null,
   "metadata": {
    "collapsed": true
   },
   "outputs": [],
   "source": []
  }
 ],
 "metadata": {
  "kernelspec": {
   "display_name": "Python 3",
   "language": "python",
   "name": "python3"
  },
  "language_info": {
   "codemirror_mode": {
    "name": "ipython",
    "version": 3
   },
   "file_extension": ".py",
   "mimetype": "text/x-python",
   "name": "python",
   "nbconvert_exporter": "python",
   "pygments_lexer": "ipython3",
   "version": "3.6.1"
  }
 },
 "nbformat": 4,
 "nbformat_minor": 2
}
