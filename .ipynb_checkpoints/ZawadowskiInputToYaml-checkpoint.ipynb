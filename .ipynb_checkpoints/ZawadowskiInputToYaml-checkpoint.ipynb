{
 "cells": [
  {
   "cell_type": "code",
   "execution_count": null,
   "metadata": {
    "collapsed": true
   },
   "outputs": [],
   "source": [
    "import sys\n",
    "# coding: utf-8\n",
    "second = {\"a\": [], \"b\": [], \"ab\": [[\"a\"], \"b\"]}\n",
    "options = {\"unique_names\": True}\n",
    "\n",
    "if __name__==\"__main__\":\n",
    "\n",
    "    FILE = sys.argv[1]\n",
    "    try:\n",
    "        FILE = FILE.split(\"FS\")[0]\n",
    "\n",
    "        result = []\n",
    "        with open(FILE + \"FS.txt\", \"r\") as f:\n",
    "            for l in sorted(f.readlines(), key=lambda x: int(x.split()[0])):\n",
    "                l = l.replace(\"\\n\", \"\")\n",
    "                l = l.split(\" \")\n",
    "                name = \"a{}\".format(l[0])\n",
    "                out = \"a{}\".format(l[1]) if l[1] != \"0\" else None\n",
    "                ins = \"[\" + \", \".join([\"a{}\".format(t) for t in l[2:]]) + \"]\"\n",
    "\n",
    "                result[name] = [[ins], out]\n",
    "\n",
    "\n",
    "        result = \"\\n\".join(result[1:])\n",
    "        result = imports + result + calculations.format(name)\n",
    "    except:\n",
    "        result = \"print('Exception')\\nprint()\"\n",
    "\n",
    "    with open(FILE + \"test.py\", \"w\") as f:\n",
    "        f.write(result)"
   ]
  }
 ],
 "metadata": {
  "kernelspec": {
   "display_name": "Python 3",
   "language": "python",
   "name": "python3"
  },
  "language_info": {
   "codemirror_mode": {
    "name": "ipython",
    "version": 3
   },
   "file_extension": ".py",
   "mimetype": "text/x-python",
   "name": "python",
   "nbconvert_exporter": "python",
   "pygments_lexer": "ipython3",
   "version": "3.6.1"
  }
 },
 "nbformat": 4,
 "nbformat_minor": 2
}
