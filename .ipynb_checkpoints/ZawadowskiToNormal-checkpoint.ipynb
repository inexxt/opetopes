{
 "cells": [
  {
   "cell_type": "code",
   "execution_count": 88,
   "metadata": {
    "collapsed": true
   },
   "outputs": [],
   "source": [
    "FILE = \"./Data07WalkProdFaces.txt\""
   ]
  },
  {
   "cell_type": "code",
   "execution_count": 97,
   "metadata": {
    "collapsed": true
   },
   "outputs": [],
   "source": [
    "def removewhile(pred, iterator):\n",
    "    condition = True\n",
    "    result = []\n",
    "    for i in iterator:\n",
    "        if not pred(i):\n",
    "            condition = False\n",
    "        if not condition:\n",
    "            result.append(i)\n",
    "    return result"
   ]
  },
  {
   "cell_type": "code",
   "execution_count": 94,
   "metadata": {},
   "outputs": [
    {
     "data": {
      "text/plain": [
       "[1, 0, 1]"
      ]
     },
     "execution_count": 94,
     "metadata": {},
     "output_type": "execute_result"
    }
   ],
   "source": [
    "x = [0,0,1,0,1]\n",
    "removewhile(lambda x: x == 0, x)"
   ]
  },
  {
   "cell_type": "code",
   "execution_count": 18,
   "metadata": {
    "collapsed": true
   },
   "outputs": [],
   "source": [
    "lines = []\n",
    "with open(FILE, \"r\") as f:\n",
    "    for l in f.readlines():\n",
    "        lines.append(l)\n",
    "lines = lines[4:-6]"
   ]
  },
  {
   "cell_type": "code",
   "execution_count": 75,
   "metadata": {},
   "outputs": [
    {
     "data": {
      "text/plain": [
       "[]"
      ]
     },
     "execution_count": 75,
     "metadata": {},
     "output_type": "execute_result"
    }
   ],
   "source": [
    "faces_desc = [[]]\n",
    "\n",
    "for l in lines:\n",
    "    if l == \"\\n\":\n",
    "        faces_desc.append([])\n",
    "    else:\n",
    "        faces_desc[-1].append(l.replace(\"\\n\", \"\").strip())\n",
    "\n",
    "faces_desc.pop()"
   ]
  },
  {
   "cell_type": "code",
   "execution_count": 215,
   "metadata": {},
   "outputs": [
    {
     "ename": "KeyError",
     "evalue": "(7, 0, 1)",
     "output_type": "error",
     "traceback": [
      "\u001b[0;31m---------------------------------------------------------------------------\u001b[0m",
      "\u001b[0;31mKeyError\u001b[0m                                  Traceback (most recent call last)",
      "\u001b[0;32m<ipython-input-215-0793bf9c4c3f>\u001b[0m in \u001b[0;36m<module>\u001b[0;34m()\u001b[0m\n\u001b[1;32m     33\u001b[0m         \u001b[0mname\u001b[0m \u001b[0;34m=\u001b[0m \u001b[0mnewnames\u001b[0m\u001b[0;34m[\u001b[0m\u001b[0mname\u001b[0m\u001b[0;34m]\u001b[0m\u001b[0;34m\u001b[0m\u001b[0m\n\u001b[1;32m     34\u001b[0m \u001b[0;34m\u001b[0m\u001b[0m\n\u001b[0;32m---> 35\u001b[0;31m     \u001b[0mfinals\u001b[0m\u001b[0;34m[\u001b[0m\u001b[0mname\u001b[0m\u001b[0;34m]\u001b[0m \u001b[0;34m=\u001b[0m \u001b[0;34m(\u001b[0m\u001b[0mnewnames\u001b[0m\u001b[0;34m[\u001b[0m\u001b[0minsf\u001b[0m\u001b[0;34m]\u001b[0m \u001b[0;32mif\u001b[0m \u001b[0minsf\u001b[0m \u001b[0;32melse\u001b[0m \u001b[0;32mNone\u001b[0m\u001b[0;34m,\u001b[0m \u001b[0;34m[\u001b[0m\u001b[0mnewnames\u001b[0m\u001b[0;34m[\u001b[0m\u001b[0mx\u001b[0m\u001b[0;34m]\u001b[0m \u001b[0;32mfor\u001b[0m \u001b[0mx\u001b[0m \u001b[0;32min\u001b[0m \u001b[0moutf\u001b[0m\u001b[0;34m]\u001b[0m\u001b[0;34m)\u001b[0m\u001b[0;34m\u001b[0m\u001b[0m\n\u001b[0m",
      "\u001b[0;31mKeyError\u001b[0m: (7, 0, 1)"
     ]
    }
   ],
   "source": [
    "final_list = []\n",
    "\n",
    "def clean(f_descp):\n",
    "    f_desc = [(x.strip(), y.strip()) for l in f_descp for x, y in [l.split(\"|\")]]\n",
    "    f_desc[0] = (f_desc[0][0].split(\" \")[-1], f_desc[0][1])\n",
    "    return f_desc\n",
    "\n",
    "finals = {}\n",
    "newnames = {}\n",
    "\n",
    "for f_descp in faces_desc:\n",
    "    f_desc = clean(f_descp)\n",
    "    \n",
    "    faces = [[] for _ in range(len(list(x for x in f_desc[0][1].split(\" \") if x)) + 1)]\n",
    "    for f, s in f_desc:\n",
    "        faces[0].append(f)\n",
    "        for e, k in enumerate([x for x in s.split(\" \") if x]):\n",
    "            if k:\n",
    "                faces[e+1].append(k)\n",
    "            \n",
    "    def transform(faces):\n",
    "        return [list(removewhile(lambda x: x == 0, map(lambda x: int(x), takewhile(lambda x: x not in (\"\", \"--\"), ff))))\n",
    "                for ff in faces if \"\".join(ff) not in [\"\", \"--\"]]\n",
    "    faces = transform(faces)\n",
    "    name = tuple(faces[0])\n",
    "    insf = tuple(faces[1]) if len(faces) > 1 else None\n",
    "    outf = [tuple(f) for f in faces[2:]]\n",
    "    \n",
    "    def goc(name):\n",
    "        if not name:\n",
    "            return None\n",
    "        if name in newnames:\n",
    "            return newnames[name]\n",
    "        else:\n",
    "            newnames[name] = len(newnames)\n",
    "            return newnames[name]\n",
    "\n",
    "    finals[goc(name)] = (goc(insf), [newnames[x] for x in outf])"
   ]
  },
  {
   "cell_type": "code",
   "execution_count": 216,
   "metadata": {},
   "outputs": [
    {
     "data": {
      "text/plain": [
       "(13, (7, 0, 1), [(4, 1), (7, 0, 0)])"
      ]
     },
     "execution_count": 216,
     "metadata": {},
     "output_type": "execute_result"
    }
   ],
   "source": [
    "name, insf, outf"
   ]
  },
  {
   "cell_type": "code",
   "execution_count": 183,
   "metadata": {},
   "outputs": [
    {
     "data": {
      "text/plain": [
       "[['7', '0', '0', '4', '3', '0', '--', '--', '2', '2', '2', '1'],\n",
       " ['', '', '', '', '', ''],\n",
       " ['', '', '', '--', '', ''],\n",
       " ['0', '6', '0', '', '1', '1'],\n",
       " ['', '', '', '--', '', ''],\n",
       " ['', '', '', '', '', ''],\n",
       " ['0', '5', '0', '--', '1', '1'],\n",
       " ['', '', '', '', ''],\n",
       " ['', '', '', '', ''],\n",
       " ['0', '0', '3', '0', '0'],\n",
       " []]"
      ]
     },
     "execution_count": 183,
     "metadata": {},
     "output_type": "execute_result"
    }
   ],
   "source": []
  },
  {
   "cell_type": "code",
   "execution_count": 184,
   "metadata": {},
   "outputs": [
    {
     "data": {
      "text/plain": [
       "[['7', '0   0   0   0'],\n",
       " ('0', '4   6   5   0'),\n",
       " ('3', '0   0   0   3'),\n",
       " ('--', '--  --  --  --'),\n",
       " ('2', '2   1   1   0'),\n",
       " ('2', '1   1   1   0')]"
      ]
     },
     "execution_count": 184,
     "metadata": {},
     "output_type": "execute_result"
    }
   ],
   "source": [
    "f_desc"
   ]
  },
  {
   "cell_type": "code",
   "execution_count": 200,
   "metadata": {},
   "outputs": [],
   "source": []
  },
  {
   "cell_type": "code",
   "execution_count": 201,
   "metadata": {},
   "outputs": [
    {
     "data": {
      "text/plain": [
       "[['7', '0', '3', '--', '2', '2'],\n",
       " ['0', '4', '0', '--', '2', '1'],\n",
       " ['0', '6', '0', '--', '1', '1'],\n",
       " ['0', '5', '0', '--', '1', '1'],\n",
       " ['0', '0', '3', '--', '0', '0']]"
      ]
     },
     "execution_count": 201,
     "metadata": {},
     "output_type": "execute_result"
    }
   ],
   "source": [
    "faces"
   ]
  },
  {
   "cell_type": "code",
   "execution_count": null,
   "metadata": {
    "collapsed": true
   },
   "outputs": [],
   "source": []
  }
 ],
 "metadata": {
  "kernelspec": {
   "display_name": "Python 3",
   "language": "python",
   "name": "python3"
  },
  "language_info": {
   "codemirror_mode": {
    "name": "ipython",
    "version": 3
   },
   "file_extension": ".py",
   "mimetype": "text/x-python",
   "name": "python",
   "nbconvert_exporter": "python",
   "pygments_lexer": "ipython3",
   "version": "3.6.1"
  }
 },
 "nbformat": 4,
 "nbformat_minor": 2
}
